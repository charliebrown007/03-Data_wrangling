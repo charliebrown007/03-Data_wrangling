{
 "cells": [
  {
   "cell_type": "markdown",
   "id": "527351d8-d02e-4259-a122-4b06c081c009",
   "metadata": {},
   "source": [
    "## <div align=\"center\"><span style = \"color:#137792\">Métodos de carga de datos</div>"
   ]
  },
  {
   "cell_type": "markdown",
   "id": "a82719ae-64a7-4110-81c0-20f18197ff4f",
   "metadata": {},
   "source": [
    "Para cargar datos en python se requiere ser consciente de la ubicación, formato y nombre del archivo que se desea almacenar"
   ]
  },
  {
   "cell_type": "markdown",
   "id": "3ed4a99d-a787-4d79-a16b-47054ce1daa1",
   "metadata": {},
   "source": [
    "### 1. Librerías"
   ]
  },
  {
   "cell_type": "code",
   "execution_count": 9,
   "id": "8ddd26b8-7e2f-45d5-8782-b6f7f5538951",
   "metadata": {},
   "outputs": [],
   "source": [
    "import pandas as pd, numpy as np, os\n",
    "\n"
   ]
  },
  {
   "cell_type": "markdown",
   "id": "201afae2-156a-4e26-86be-f2542a86dc2f",
   "metadata": {},
   "source": [
    "### 2. Carga de datos en formato csv"
   ]
  },
  {
   "cell_type": "markdown",
   "id": "de800ce5-afc9-44a3-8c1b-f5337e8497d2",
   "metadata": {},
   "source": [
    "#### 2.1. Función general"
   ]
  },
  {
   "cell_type": "code",
   "execution_count": 32,
   "id": "ee37ec1d-5718-40cd-8b58-a2adcaed0652",
   "metadata": {},
   "outputs": [
    {
     "name": "stdout",
     "output_type": "stream",
     "text": [
      "<class 'pandas.core.frame.DataFrame'>\n",
      "RangeIndex: 35549 entries, 0 to 35548\n",
      "Data columns (total 9 columns):\n",
      " #   Column           Non-Null Count  Dtype  \n",
      "---  ------           --------------  -----  \n",
      " 0   record_id        35549 non-null  int64  \n",
      " 1   month            35549 non-null  float64\n",
      " 2   day              35549 non-null  int64  \n",
      " 3   year             35549 non-null  int64  \n",
      " 4   plot_id          35549 non-null  int64  \n",
      " 5   species_id       34786 non-null  object \n",
      " 6   sex              33038 non-null  object \n",
      " 7   hindfoot_length  31438 non-null  float64\n",
      " 8   weight           32283 non-null  float64\n",
      "dtypes: float64(3), int64(4), object(2)\n",
      "memory usage: 2.4+ MB\n"
     ]
    },
    {
     "data": {
      "text/html": [
       "<div>\n",
       "<style scoped>\n",
       "    .dataframe tbody tr th:only-of-type {\n",
       "        vertical-align: middle;\n",
       "    }\n",
       "\n",
       "    .dataframe tbody tr th {\n",
       "        vertical-align: top;\n",
       "    }\n",
       "\n",
       "    .dataframe thead th {\n",
       "        text-align: right;\n",
       "    }\n",
       "</style>\n",
       "<table border=\"1\" class=\"dataframe\">\n",
       "  <thead>\n",
       "    <tr style=\"text-align: right;\">\n",
       "      <th></th>\n",
       "      <th>record_id</th>\n",
       "      <th>month</th>\n",
       "      <th>day</th>\n",
       "      <th>year</th>\n",
       "      <th>plot_id</th>\n",
       "      <th>species_id</th>\n",
       "      <th>sex</th>\n",
       "      <th>hindfoot_length</th>\n",
       "      <th>weight</th>\n",
       "    </tr>\n",
       "  </thead>\n",
       "  <tbody>\n",
       "    <tr>\n",
       "      <th>0</th>\n",
       "      <td>1</td>\n",
       "      <td>7.0</td>\n",
       "      <td>16</td>\n",
       "      <td>1977</td>\n",
       "      <td>2</td>\n",
       "      <td>NL</td>\n",
       "      <td>M</td>\n",
       "      <td>32.0</td>\n",
       "      <td>NaN</td>\n",
       "    </tr>\n",
       "    <tr>\n",
       "      <th>1</th>\n",
       "      <td>2</td>\n",
       "      <td>7.0</td>\n",
       "      <td>16</td>\n",
       "      <td>1977</td>\n",
       "      <td>3</td>\n",
       "      <td>NL</td>\n",
       "      <td>M</td>\n",
       "      <td>33.0</td>\n",
       "      <td>NaN</td>\n",
       "    </tr>\n",
       "    <tr>\n",
       "      <th>2</th>\n",
       "      <td>3</td>\n",
       "      <td>7.0</td>\n",
       "      <td>16</td>\n",
       "      <td>1977</td>\n",
       "      <td>2</td>\n",
       "      <td>DM</td>\n",
       "      <td>F</td>\n",
       "      <td>37.0</td>\n",
       "      <td>NaN</td>\n",
       "    </tr>\n",
       "    <tr>\n",
       "      <th>3</th>\n",
       "      <td>4</td>\n",
       "      <td>7.0</td>\n",
       "      <td>16</td>\n",
       "      <td>1977</td>\n",
       "      <td>7</td>\n",
       "      <td>DM</td>\n",
       "      <td>M</td>\n",
       "      <td>36.0</td>\n",
       "      <td>NaN</td>\n",
       "    </tr>\n",
       "    <tr>\n",
       "      <th>4</th>\n",
       "      <td>5</td>\n",
       "      <td>7.0</td>\n",
       "      <td>16</td>\n",
       "      <td>1977</td>\n",
       "      <td>3</td>\n",
       "      <td>DM</td>\n",
       "      <td>M</td>\n",
       "      <td>35.0</td>\n",
       "      <td>NaN</td>\n",
       "    </tr>\n",
       "  </tbody>\n",
       "</table>\n",
       "</div>"
      ],
      "text/plain": [
       "   record_id  month  day  year  plot_id species_id sex  hindfoot_length  \\\n",
       "0          1    7.0   16  1977        2         NL   M             32.0   \n",
       "1          2    7.0   16  1977        3         NL   M             33.0   \n",
       "2          3    7.0   16  1977        2         DM   F             37.0   \n",
       "3          4    7.0   16  1977        7         DM   M             36.0   \n",
       "4          5    7.0   16  1977        3         DM   M             35.0   \n",
       "\n",
       "   weight  \n",
       "0     NaN  \n",
       "1     NaN  \n",
       "2     NaN  \n",
       "3     NaN  \n",
       "4     NaN  "
      ]
     },
     "execution_count": 32,
     "metadata": {},
     "output_type": "execute_result"
    }
   ],
   "source": [
    "# Ubicación y nombre del archivo\n",
    "path = r'C:\\Users\\DELL\\OneDrive\\Formación\\Python\\GITHUB - Repositorios\\Datasets'\n",
    "file = 'surveys.csv'\n",
    "\n",
    "# Función de carga de datos\n",
    "def custom_load(path,file):\n",
    "    csv_path = os.path.join(path,file)\n",
    "    return pd.read_csv(filepath_or_buffer = csv_path, # Ubicación del archivo\n",
    "                       sep = ',', # Tipo de limitador entre columnas\n",
    "                       skip_blank_lines = True, # Omitir filas en blanco\n",
    "                       encoding = 'utf-8', # Codificación de caracteres\n",
    "                       header = 'infer', # Inferir los títulos de columna, puede usarse un número como fila. Se puede usar una lista.\n",
    "                       index_col = None, # Columna a usar como índice del dataset. Ej. 'record_id'\n",
    "                       na_filter = True, # Detecta strings vacíos como NaN (Default: True)\n",
    "                       skiprows = None, # Omitir una fila del dataset. El conteno inicia en 0. Se puede usar una lista.\n",
    "                       dtype = {'month': np.float64} # Asigna un tipo de variable a las columnas especificadas, pero solo funciona con string, int y float. Se puede usar una lista\n",
    "                      )\n",
    "\n",
    "\n",
    "# Resultados\n",
    "df = custom_load(path,file)\n",
    "\n",
    "#print(df.shape)\n",
    "#print(df.dtypes)\n",
    "df.info()\n",
    "df.head()"
   ]
  },
  {
   "cell_type": "markdown",
   "id": "97eebf18-cba7-43e9-99d8-51d5ff29c4c5",
   "metadata": {},
   "source": [
    "#### 2.2. Cargar filas y columnas específicas"
   ]
  },
  {
   "cell_type": "code",
   "execution_count": 31,
   "id": "129df064-ee93-4bbc-807e-b42453661585",
   "metadata": {},
   "outputs": [
    {
     "name": "stdout",
     "output_type": "stream",
     "text": [
      "<class 'pandas.core.frame.DataFrame'>\n",
      "RangeIndex: 20 entries, 0 to 19\n",
      "Data columns (total 3 columns):\n",
      " #   Column      Non-Null Count  Dtype \n",
      "---  ------      --------------  ----- \n",
      " 0   record_id   20 non-null     int64 \n",
      " 1   month       20 non-null     int64 \n",
      " 2   species_id  20 non-null     object\n",
      "dtypes: int64(2), object(1)\n",
      "memory usage: 608.0+ bytes\n"
     ]
    },
    {
     "data": {
      "text/html": [
       "<div>\n",
       "<style scoped>\n",
       "    .dataframe tbody tr th:only-of-type {\n",
       "        vertical-align: middle;\n",
       "    }\n",
       "\n",
       "    .dataframe tbody tr th {\n",
       "        vertical-align: top;\n",
       "    }\n",
       "\n",
       "    .dataframe thead th {\n",
       "        text-align: right;\n",
       "    }\n",
       "</style>\n",
       "<table border=\"1\" class=\"dataframe\">\n",
       "  <thead>\n",
       "    <tr style=\"text-align: right;\">\n",
       "      <th></th>\n",
       "      <th>record_id</th>\n",
       "      <th>month</th>\n",
       "      <th>species_id</th>\n",
       "    </tr>\n",
       "  </thead>\n",
       "  <tbody>\n",
       "    <tr>\n",
       "      <th>0</th>\n",
       "      <td>1</td>\n",
       "      <td>7</td>\n",
       "      <td>NL</td>\n",
       "    </tr>\n",
       "    <tr>\n",
       "      <th>1</th>\n",
       "      <td>2</td>\n",
       "      <td>7</td>\n",
       "      <td>NL</td>\n",
       "    </tr>\n",
       "    <tr>\n",
       "      <th>2</th>\n",
       "      <td>3</td>\n",
       "      <td>7</td>\n",
       "      <td>DM</td>\n",
       "    </tr>\n",
       "    <tr>\n",
       "      <th>3</th>\n",
       "      <td>4</td>\n",
       "      <td>7</td>\n",
       "      <td>DM</td>\n",
       "    </tr>\n",
       "    <tr>\n",
       "      <th>4</th>\n",
       "      <td>5</td>\n",
       "      <td>7</td>\n",
       "      <td>DM</td>\n",
       "    </tr>\n",
       "  </tbody>\n",
       "</table>\n",
       "</div>"
      ],
      "text/plain": [
       "   record_id  month species_id\n",
       "0          1      7         NL\n",
       "1          2      7         NL\n",
       "2          3      7         DM\n",
       "3          4      7         DM\n",
       "4          5      7         DM"
      ]
     },
     "execution_count": 31,
     "metadata": {},
     "output_type": "execute_result"
    }
   ],
   "source": [
    "# Ubicación y nombre del archivo\n",
    "path = r'C:\\Users\\DELL\\OneDrive\\Formación\\Python\\GITHUB - Repositorios\\Datasets'\n",
    "file = 'surveys.csv'\n",
    "\n",
    "# Función de carga de datos\n",
    "def custom_load(path,file):\n",
    "    csv_path = os.path.join(path,file)\n",
    "    return pd.read_csv(filepath_or_buffer = csv_path, # Ubicación del archivo\n",
    "                       sep = ',', # Tipo de limitador entre columnas\n",
    "                       #usecols = [0,1,5] # Usar la 1ra, 2da y 6ta columna,\n",
    "                       usecols = ['record_id','month','species_id'], # Usar la 1ra, 2da y 6ta columna por nombres de variable \n",
    "                       #nrows = 10, # Número de filas a cargar. Útil para evaluar framentos de grades archvos    \n",
    "                       nrows = 20 # Se pude usar el parámetro skiprows y nrow para cargar filas en el medio del dataset original\n",
    "                      )\n",
    "\n",
    "\n",
    "# Resultados\n",
    "df = custom_load(path,file)\n",
    "\n",
    "#print(df.shape)\n",
    "#print(df.dtypes)\n",
    "df.info()\n",
    "df.head()"
   ]
  },
  {
   "cell_type": "markdown",
   "id": "e7e59f11-47c2-4822-afa7-6ca749fdb354",
   "metadata": {},
   "source": [
    "### 3. Carga de datos desde GITHUB"
   ]
  },
  {
   "cell_type": "code",
   "execution_count": null,
   "id": "da8edf61-5cb5-4848-9c18-b533430d8089",
   "metadata": {},
   "outputs": [],
   "source": []
  },
  {
   "cell_type": "code",
   "execution_count": null,
   "id": "a84a9053-86fd-4fd8-ad27-af74531becc6",
   "metadata": {},
   "outputs": [],
   "source": []
  },
  {
   "cell_type": "markdown",
   "id": "2c1463fb-9265-4000-9bbc-3913c6ef59ef",
   "metadata": {},
   "source": [
    "### 4. Carga de datos desde una URL"
   ]
  },
  {
   "cell_type": "code",
   "execution_count": null,
   "id": "a9f68507-40c4-4dab-85bd-e36d93ad3228",
   "metadata": {},
   "outputs": [],
   "source": []
  },
  {
   "cell_type": "code",
   "execution_count": null,
   "id": "a8acd672-7a50-4b8f-91b1-41e8d3cc5d89",
   "metadata": {},
   "outputs": [],
   "source": []
  },
  {
   "cell_type": "markdown",
   "id": "8da802e7-02f2-412b-b738-1df81e8f854f",
   "metadata": {},
   "source": [
    "### 5. Carga de archivos EXCEL (.xlsx)"
   ]
  },
  {
   "cell_type": "code",
   "execution_count": null,
   "id": "9cd4c428-c6ea-491f-8d04-4e45ab359716",
   "metadata": {},
   "outputs": [],
   "source": []
  },
  {
   "cell_type": "code",
   "execution_count": null,
   "id": "0f3841af-c4a4-43b6-9c7e-3991932fee8c",
   "metadata": {},
   "outputs": [],
   "source": []
  },
  {
   "cell_type": "markdown",
   "id": "54629d91-c478-4bc3-9df3-045510196147",
   "metadata": {},
   "source": [
    "### 6. Carga de datos desde One Drive"
   ]
  },
  {
   "cell_type": "code",
   "execution_count": null,
   "id": "64538d6b-d7e8-4c3a-85b1-06331d551052",
   "metadata": {},
   "outputs": [],
   "source": []
  },
  {
   "cell_type": "code",
   "execution_count": null,
   "id": "27c4aea1-1c8a-4c6a-ac37-1f30fa2f610a",
   "metadata": {},
   "outputs": [],
   "source": []
  },
  {
   "cell_type": "markdown",
   "id": "3837ad7e-c92b-472e-93ed-9492cd4a7a88",
   "metadata": {},
   "source": [
    "7. Carga de datos provenientes de SPSS ()"
   ]
  }
 ],
 "metadata": {
  "kernelspec": {
   "display_name": "Python 3 (ipykernel)",
   "language": "python",
   "name": "python3"
  },
  "language_info": {
   "codemirror_mode": {
    "name": "ipython",
    "version": 3
   },
   "file_extension": ".py",
   "mimetype": "text/x-python",
   "name": "python",
   "nbconvert_exporter": "python",
   "pygments_lexer": "ipython3",
   "version": "3.10.8"
  }
 },
 "nbformat": 4,
 "nbformat_minor": 5
}
