{
 "cells": [
  {
   "cell_type": "markdown",
   "id": "ede58a27",
   "metadata": {},
   "source": [
    "# Transformación de datos"
   ]
  },
  {
   "cell_type": "markdown",
   "id": "f096d549",
   "metadata": {},
   "source": [
    "### <font color=#845600> Filtrado y selección de datos"
   ]
  },
  {
   "cell_type": "markdown",
   "id": "cc1e2018",
   "metadata": {},
   "source": [
    "<font color=#9d6600>"
   ]
  },
  {
   "cell_type": "markdown",
   "id": "39d779df",
   "metadata": {},
   "source": [
    "**Carga de librerías**"
   ]
  },
  {
   "cell_type": "code",
   "execution_count": 1,
   "id": "2d0c2402",
   "metadata": {},
   "outputs": [],
   "source": [
    "import pandas as pd"
   ]
  },
  {
   "cell_type": "markdown",
   "id": "83de323d",
   "metadata": {},
   "source": [
    "**Importado de datos**"
   ]
  },
  {
   "cell_type": "code",
   "execution_count": 2,
   "id": "0bb41d54",
   "metadata": {
    "scrolled": true
   },
   "outputs": [
    {
     "data": {
      "text/html": [
       "<div>\n",
       "<style scoped>\n",
       "    .dataframe tbody tr th:only-of-type {\n",
       "        vertical-align: middle;\n",
       "    }\n",
       "\n",
       "    .dataframe tbody tr th {\n",
       "        vertical-align: top;\n",
       "    }\n",
       "\n",
       "    .dataframe thead th {\n",
       "        text-align: right;\n",
       "    }\n",
       "</style>\n",
       "<table border=\"1\" class=\"dataframe\">\n",
       "  <thead>\n",
       "    <tr style=\"text-align: right;\">\n",
       "      <th></th>\n",
       "      <th>year</th>\n",
       "      <th>month</th>\n",
       "      <th>day</th>\n",
       "      <th>dep_time</th>\n",
       "      <th>dep_delay</th>\n",
       "      <th>arr_time</th>\n",
       "      <th>arr_delay</th>\n",
       "      <th>carrier</th>\n",
       "      <th>tailnum</th>\n",
       "      <th>flight</th>\n",
       "      <th>origin</th>\n",
       "      <th>dest</th>\n",
       "      <th>air_time</th>\n",
       "      <th>distance</th>\n",
       "      <th>hour</th>\n",
       "      <th>minute</th>\n",
       "    </tr>\n",
       "  </thead>\n",
       "  <tbody>\n",
       "    <tr>\n",
       "      <th>0</th>\n",
       "      <td>2013</td>\n",
       "      <td>6</td>\n",
       "      <td>30</td>\n",
       "      <td>940</td>\n",
       "      <td>15</td>\n",
       "      <td>1216</td>\n",
       "      <td>-4</td>\n",
       "      <td>VX</td>\n",
       "      <td>N626VA</td>\n",
       "      <td>407</td>\n",
       "      <td>JFK</td>\n",
       "      <td>LAX</td>\n",
       "      <td>313</td>\n",
       "      <td>2475</td>\n",
       "      <td>9</td>\n",
       "      <td>40</td>\n",
       "    </tr>\n",
       "    <tr>\n",
       "      <th>1</th>\n",
       "      <td>2013</td>\n",
       "      <td>5</td>\n",
       "      <td>7</td>\n",
       "      <td>1657</td>\n",
       "      <td>-3</td>\n",
       "      <td>2104</td>\n",
       "      <td>10</td>\n",
       "      <td>DL</td>\n",
       "      <td>N3760C</td>\n",
       "      <td>329</td>\n",
       "      <td>JFK</td>\n",
       "      <td>SJU</td>\n",
       "      <td>216</td>\n",
       "      <td>1598</td>\n",
       "      <td>16</td>\n",
       "      <td>57</td>\n",
       "    </tr>\n",
       "    <tr>\n",
       "      <th>2</th>\n",
       "      <td>2013</td>\n",
       "      <td>12</td>\n",
       "      <td>8</td>\n",
       "      <td>859</td>\n",
       "      <td>-1</td>\n",
       "      <td>1238</td>\n",
       "      <td>11</td>\n",
       "      <td>DL</td>\n",
       "      <td>N712TW</td>\n",
       "      <td>422</td>\n",
       "      <td>JFK</td>\n",
       "      <td>LAX</td>\n",
       "      <td>376</td>\n",
       "      <td>2475</td>\n",
       "      <td>8</td>\n",
       "      <td>59</td>\n",
       "    </tr>\n",
       "    <tr>\n",
       "      <th>3</th>\n",
       "      <td>2013</td>\n",
       "      <td>5</td>\n",
       "      <td>14</td>\n",
       "      <td>1841</td>\n",
       "      <td>-4</td>\n",
       "      <td>2122</td>\n",
       "      <td>-34</td>\n",
       "      <td>DL</td>\n",
       "      <td>N914DL</td>\n",
       "      <td>2391</td>\n",
       "      <td>JFK</td>\n",
       "      <td>TPA</td>\n",
       "      <td>135</td>\n",
       "      <td>1005</td>\n",
       "      <td>18</td>\n",
       "      <td>41</td>\n",
       "    </tr>\n",
       "    <tr>\n",
       "      <th>4</th>\n",
       "      <td>2013</td>\n",
       "      <td>7</td>\n",
       "      <td>21</td>\n",
       "      <td>1102</td>\n",
       "      <td>-3</td>\n",
       "      <td>1230</td>\n",
       "      <td>-8</td>\n",
       "      <td>9E</td>\n",
       "      <td>N823AY</td>\n",
       "      <td>3652</td>\n",
       "      <td>LGA</td>\n",
       "      <td>ORF</td>\n",
       "      <td>50</td>\n",
       "      <td>296</td>\n",
       "      <td>11</td>\n",
       "      <td>2</td>\n",
       "    </tr>\n",
       "  </tbody>\n",
       "</table>\n",
       "</div>"
      ],
      "text/plain": [
       "   year  month  day  dep_time  dep_delay  arr_time  arr_delay carrier tailnum  \\\n",
       "0  2013      6   30       940         15      1216         -4      VX  N626VA   \n",
       "1  2013      5    7      1657         -3      2104         10      DL  N3760C   \n",
       "2  2013     12    8       859         -1      1238         11      DL  N712TW   \n",
       "3  2013      5   14      1841         -4      2122        -34      DL  N914DL   \n",
       "4  2013      7   21      1102         -3      1230         -8      9E  N823AY   \n",
       "\n",
       "   flight origin dest  air_time  distance  hour  minute  \n",
       "0     407    JFK  LAX       313      2475     9      40  \n",
       "1     329    JFK  SJU       216      1598    16      57  \n",
       "2     422    JFK  LAX       376      2475     8      59  \n",
       "3    2391    JFK  TPA       135      1005    18      41  \n",
       "4    3652    LGA  ORF        50       296    11       2  "
      ]
     },
     "execution_count": 2,
     "metadata": {},
     "output_type": "execute_result"
    }
   ],
   "source": [
    "df = pd.read_csv(\"nycflights.csv\")\n",
    "#df.info()\n",
    "df.head()"
   ]
  },
  {
   "cell_type": "markdown",
   "id": "239f5446",
   "metadata": {},
   "source": [
    "#### <font color=#845600> Filtro a través del valor de una columna"
   ]
  },
  {
   "cell_type": "code",
   "execution_count": null,
   "id": "e2defdb7",
   "metadata": {},
   "outputs": [],
   "source": [
    "df1 = df[df[\"origin\"]==\"LGA\"]\n",
    "df1.head()"
   ]
  },
  {
   "cell_type": "code",
   "execution_count": null,
   "id": "a9567eda",
   "metadata": {},
   "outputs": [],
   "source": [
    "df1 = df[df[\"origin\"]!=\"LGA\"]\n",
    "df1.head()"
   ]
  },
  {
   "cell_type": "code",
   "execution_count": null,
   "id": "0f43c2e9",
   "metadata": {},
   "outputs": [],
   "source": [
    "# & equivale a \"AND\"\n",
    "df1 = df[(df[\"origin\"]==\"LGA\") & (df[\"year\"]==2013) & (df[\"air_time\"]<=50)]\n",
    "df1.head()"
   ]
  },
  {
   "cell_type": "code",
   "execution_count": null,
   "id": "b0f86410",
   "metadata": {},
   "outputs": [],
   "source": [
    "# | equivale a \"OR\"\n",
    "df1 = df[(df[\"month\"]==5) | (df[\"month\"]==12)]\n",
    "df1.head()"
   ]
  },
  {
   "cell_type": "markdown",
   "id": "1fabed40",
   "metadata": {},
   "source": [
    "Es posible usar otras variables para filtrar datos:"
   ]
  },
  {
   "cell_type": "code",
   "execution_count": 5,
   "id": "a5abd977",
   "metadata": {},
   "outputs": [
    {
     "data": {
      "text/html": [
       "<div>\n",
       "<style scoped>\n",
       "    .dataframe tbody tr th:only-of-type {\n",
       "        vertical-align: middle;\n",
       "    }\n",
       "\n",
       "    .dataframe tbody tr th {\n",
       "        vertical-align: top;\n",
       "    }\n",
       "\n",
       "    .dataframe thead th {\n",
       "        text-align: right;\n",
       "    }\n",
       "</style>\n",
       "<table border=\"1\" class=\"dataframe\">\n",
       "  <thead>\n",
       "    <tr style=\"text-align: right;\">\n",
       "      <th></th>\n",
       "      <th>year</th>\n",
       "      <th>month</th>\n",
       "      <th>day</th>\n",
       "      <th>dep_time</th>\n",
       "      <th>dep_delay</th>\n",
       "      <th>arr_time</th>\n",
       "      <th>arr_delay</th>\n",
       "      <th>carrier</th>\n",
       "      <th>tailnum</th>\n",
       "      <th>flight</th>\n",
       "      <th>origin</th>\n",
       "      <th>dest</th>\n",
       "      <th>air_time</th>\n",
       "      <th>distance</th>\n",
       "      <th>hour</th>\n",
       "      <th>minute</th>\n",
       "    </tr>\n",
       "  </thead>\n",
       "  <tbody>\n",
       "    <tr>\n",
       "      <th>1</th>\n",
       "      <td>2013</td>\n",
       "      <td>5</td>\n",
       "      <td>7</td>\n",
       "      <td>1657</td>\n",
       "      <td>-3</td>\n",
       "      <td>2104</td>\n",
       "      <td>10</td>\n",
       "      <td>DL</td>\n",
       "      <td>N3760C</td>\n",
       "      <td>329</td>\n",
       "      <td>JFK</td>\n",
       "      <td>SJU</td>\n",
       "      <td>216</td>\n",
       "      <td>1598</td>\n",
       "      <td>16</td>\n",
       "      <td>57</td>\n",
       "    </tr>\n",
       "    <tr>\n",
       "      <th>3</th>\n",
       "      <td>2013</td>\n",
       "      <td>5</td>\n",
       "      <td>14</td>\n",
       "      <td>1841</td>\n",
       "      <td>-4</td>\n",
       "      <td>2122</td>\n",
       "      <td>-34</td>\n",
       "      <td>DL</td>\n",
       "      <td>N914DL</td>\n",
       "      <td>2391</td>\n",
       "      <td>JFK</td>\n",
       "      <td>TPA</td>\n",
       "      <td>135</td>\n",
       "      <td>1005</td>\n",
       "      <td>18</td>\n",
       "      <td>41</td>\n",
       "    </tr>\n",
       "    <tr>\n",
       "      <th>36</th>\n",
       "      <td>2013</td>\n",
       "      <td>5</td>\n",
       "      <td>13</td>\n",
       "      <td>1825</td>\n",
       "      <td>-4</td>\n",
       "      <td>2000</td>\n",
       "      <td>-35</td>\n",
       "      <td>DL</td>\n",
       "      <td>N919DE</td>\n",
       "      <td>2131</td>\n",
       "      <td>LGA</td>\n",
       "      <td>DTW</td>\n",
       "      <td>77</td>\n",
       "      <td>502</td>\n",
       "      <td>18</td>\n",
       "      <td>25</td>\n",
       "    </tr>\n",
       "    <tr>\n",
       "      <th>63</th>\n",
       "      <td>2013</td>\n",
       "      <td>5</td>\n",
       "      <td>26</td>\n",
       "      <td>1417</td>\n",
       "      <td>-8</td>\n",
       "      <td>1529</td>\n",
       "      <td>-21</td>\n",
       "      <td>B6</td>\n",
       "      <td>N184JB</td>\n",
       "      <td>8</td>\n",
       "      <td>JFK</td>\n",
       "      <td>BUF</td>\n",
       "      <td>56</td>\n",
       "      <td>301</td>\n",
       "      <td>14</td>\n",
       "      <td>17</td>\n",
       "    </tr>\n",
       "    <tr>\n",
       "      <th>67</th>\n",
       "      <td>2013</td>\n",
       "      <td>5</td>\n",
       "      <td>25</td>\n",
       "      <td>1610</td>\n",
       "      <td>-5</td>\n",
       "      <td>1827</td>\n",
       "      <td>-13</td>\n",
       "      <td>MQ</td>\n",
       "      <td>N525MQ</td>\n",
       "      <td>4657</td>\n",
       "      <td>LGA</td>\n",
       "      <td>ATL</td>\n",
       "      <td>102</td>\n",
       "      <td>762</td>\n",
       "      <td>16</td>\n",
       "      <td>10</td>\n",
       "    </tr>\n",
       "  </tbody>\n",
       "</table>\n",
       "</div>"
      ],
      "text/plain": [
       "    year  month  day  dep_time  dep_delay  arr_time  arr_delay carrier  \\\n",
       "1   2013      5    7      1657         -3      2104         10      DL   \n",
       "3   2013      5   14      1841         -4      2122        -34      DL   \n",
       "36  2013      5   13      1825         -4      2000        -35      DL   \n",
       "63  2013      5   26      1417         -8      1529        -21      B6   \n",
       "67  2013      5   25      1610         -5      1827        -13      MQ   \n",
       "\n",
       "   tailnum  flight origin dest  air_time  distance  hour  minute  \n",
       "1   N3760C     329    JFK  SJU       216      1598    16      57  \n",
       "3   N914DL    2391    JFK  TPA       135      1005    18      41  \n",
       "36  N919DE    2131    LGA  DTW        77       502    18      25  \n",
       "63  N184JB       8    JFK  BUF        56       301    14      17  \n",
       "67  N525MQ    4657    LGA  ATL       102       762    16      10  "
      ]
     },
     "execution_count": 5,
     "metadata": {},
     "output_type": "execute_result"
    }
   ],
   "source": [
    "month_var = 5\n",
    "df1 = df[(df[\"month\"] == month_var) & (df[\"air_time\"]>50)]\n",
    "df1.head()"
   ]
  },
  {
   "cell_type": "markdown",
   "id": "c5dce919",
   "metadata": {},
   "source": [
    "Se puede negar cualquier criterio de filtro"
   ]
  },
  {
   "cell_type": "code",
   "execution_count": 4,
   "id": "851fba06",
   "metadata": {
    "scrolled": true
   },
   "outputs": [
    {
     "data": {
      "text/html": [
       "<div>\n",
       "<style scoped>\n",
       "    .dataframe tbody tr th:only-of-type {\n",
       "        vertical-align: middle;\n",
       "    }\n",
       "\n",
       "    .dataframe tbody tr th {\n",
       "        vertical-align: top;\n",
       "    }\n",
       "\n",
       "    .dataframe thead th {\n",
       "        text-align: right;\n",
       "    }\n",
       "</style>\n",
       "<table border=\"1\" class=\"dataframe\">\n",
       "  <thead>\n",
       "    <tr style=\"text-align: right;\">\n",
       "      <th></th>\n",
       "      <th>year</th>\n",
       "      <th>month</th>\n",
       "      <th>day</th>\n",
       "      <th>dep_time</th>\n",
       "      <th>dep_delay</th>\n",
       "      <th>arr_time</th>\n",
       "      <th>arr_delay</th>\n",
       "      <th>carrier</th>\n",
       "      <th>tailnum</th>\n",
       "      <th>flight</th>\n",
       "      <th>origin</th>\n",
       "      <th>dest</th>\n",
       "      <th>air_time</th>\n",
       "      <th>distance</th>\n",
       "      <th>hour</th>\n",
       "      <th>minute</th>\n",
       "    </tr>\n",
       "  </thead>\n",
       "  <tbody>\n",
       "    <tr>\n",
       "      <th>0</th>\n",
       "      <td>2013</td>\n",
       "      <td>6</td>\n",
       "      <td>30</td>\n",
       "      <td>940</td>\n",
       "      <td>15</td>\n",
       "      <td>1216</td>\n",
       "      <td>-4</td>\n",
       "      <td>VX</td>\n",
       "      <td>N626VA</td>\n",
       "      <td>407</td>\n",
       "      <td>JFK</td>\n",
       "      <td>LAX</td>\n",
       "      <td>313</td>\n",
       "      <td>2475</td>\n",
       "      <td>9</td>\n",
       "      <td>40</td>\n",
       "    </tr>\n",
       "    <tr>\n",
       "      <th>2</th>\n",
       "      <td>2013</td>\n",
       "      <td>12</td>\n",
       "      <td>8</td>\n",
       "      <td>859</td>\n",
       "      <td>-1</td>\n",
       "      <td>1238</td>\n",
       "      <td>11</td>\n",
       "      <td>DL</td>\n",
       "      <td>N712TW</td>\n",
       "      <td>422</td>\n",
       "      <td>JFK</td>\n",
       "      <td>LAX</td>\n",
       "      <td>376</td>\n",
       "      <td>2475</td>\n",
       "      <td>8</td>\n",
       "      <td>59</td>\n",
       "    </tr>\n",
       "    <tr>\n",
       "      <th>4</th>\n",
       "      <td>2013</td>\n",
       "      <td>7</td>\n",
       "      <td>21</td>\n",
       "      <td>1102</td>\n",
       "      <td>-3</td>\n",
       "      <td>1230</td>\n",
       "      <td>-8</td>\n",
       "      <td>9E</td>\n",
       "      <td>N823AY</td>\n",
       "      <td>3652</td>\n",
       "      <td>LGA</td>\n",
       "      <td>ORF</td>\n",
       "      <td>50</td>\n",
       "      <td>296</td>\n",
       "      <td>11</td>\n",
       "      <td>2</td>\n",
       "    </tr>\n",
       "    <tr>\n",
       "      <th>5</th>\n",
       "      <td>2013</td>\n",
       "      <td>1</td>\n",
       "      <td>1</td>\n",
       "      <td>1817</td>\n",
       "      <td>-3</td>\n",
       "      <td>2008</td>\n",
       "      <td>3</td>\n",
       "      <td>AA</td>\n",
       "      <td>N3AXAA</td>\n",
       "      <td>353</td>\n",
       "      <td>LGA</td>\n",
       "      <td>ORD</td>\n",
       "      <td>138</td>\n",
       "      <td>733</td>\n",
       "      <td>18</td>\n",
       "      <td>17</td>\n",
       "    </tr>\n",
       "    <tr>\n",
       "      <th>6</th>\n",
       "      <td>2013</td>\n",
       "      <td>12</td>\n",
       "      <td>9</td>\n",
       "      <td>1259</td>\n",
       "      <td>14</td>\n",
       "      <td>1617</td>\n",
       "      <td>22</td>\n",
       "      <td>WN</td>\n",
       "      <td>N218WN</td>\n",
       "      <td>1428</td>\n",
       "      <td>EWR</td>\n",
       "      <td>HOU</td>\n",
       "      <td>240</td>\n",
       "      <td>1411</td>\n",
       "      <td>12</td>\n",
       "      <td>59</td>\n",
       "    </tr>\n",
       "  </tbody>\n",
       "</table>\n",
       "</div>"
      ],
      "text/plain": [
       "   year  month  day  dep_time  dep_delay  arr_time  arr_delay carrier tailnum  \\\n",
       "0  2013      6   30       940         15      1216         -4      VX  N626VA   \n",
       "2  2013     12    8       859         -1      1238         11      DL  N712TW   \n",
       "4  2013      7   21      1102         -3      1230         -8      9E  N823AY   \n",
       "5  2013      1    1      1817         -3      2008          3      AA  N3AXAA   \n",
       "6  2013     12    9      1259         14      1617         22      WN  N218WN   \n",
       "\n",
       "   flight origin dest  air_time  distance  hour  minute  \n",
       "0     407    JFK  LAX       313      2475     9      40  \n",
       "2     422    JFK  LAX       376      2475     8      59  \n",
       "4    3652    LGA  ORF        50       296    11       2  \n",
       "5     353    LGA  ORD       138       733    18      17  \n",
       "6    1428    EWR  HOU       240      1411    12      59  "
      ]
     },
     "execution_count": 4,
     "metadata": {},
     "output_type": "execute_result"
    }
   ],
   "source": [
    "month_var = 5\n",
    "df1 = df[~((df[\"month\"] == month_var) & (df[\"air_time\"]>50))]\n",
    "df1.head()"
   ]
  },
  {
   "cell_type": "markdown",
   "id": "9226a14d",
   "metadata": {},
   "source": [
    "#### <font color=#845600> Filtro a través de la función loc"
   ]
  },
  {
   "cell_type": "code",
   "execution_count": 15,
   "id": "10dd8648",
   "metadata": {},
   "outputs": [
    {
     "data": {
      "text/html": [
       "<div>\n",
       "<style scoped>\n",
       "    .dataframe tbody tr th:only-of-type {\n",
       "        vertical-align: middle;\n",
       "    }\n",
       "\n",
       "    .dataframe tbody tr th {\n",
       "        vertical-align: top;\n",
       "    }\n",
       "\n",
       "    .dataframe thead th {\n",
       "        text-align: right;\n",
       "    }\n",
       "</style>\n",
       "<table border=\"1\" class=\"dataframe\">\n",
       "  <thead>\n",
       "    <tr style=\"text-align: right;\">\n",
       "      <th></th>\n",
       "      <th>year</th>\n",
       "      <th>month</th>\n",
       "      <th>day</th>\n",
       "      <th>dep_time</th>\n",
       "      <th>dep_delay</th>\n",
       "      <th>arr_time</th>\n",
       "      <th>arr_delay</th>\n",
       "      <th>carrier</th>\n",
       "      <th>tailnum</th>\n",
       "      <th>flight</th>\n",
       "      <th>origin</th>\n",
       "      <th>dest</th>\n",
       "      <th>air_time</th>\n",
       "      <th>distance</th>\n",
       "      <th>hour</th>\n",
       "      <th>minute</th>\n",
       "    </tr>\n",
       "  </thead>\n",
       "  <tbody>\n",
       "    <tr>\n",
       "      <th>4</th>\n",
       "      <td>2013</td>\n",
       "      <td>7</td>\n",
       "      <td>21</td>\n",
       "      <td>1102</td>\n",
       "      <td>-3</td>\n",
       "      <td>1230</td>\n",
       "      <td>-8</td>\n",
       "      <td>9E</td>\n",
       "      <td>N823AY</td>\n",
       "      <td>3652</td>\n",
       "      <td>LGA</td>\n",
       "      <td>ORF</td>\n",
       "      <td>50</td>\n",
       "      <td>296</td>\n",
       "      <td>11</td>\n",
       "      <td>2</td>\n",
       "    </tr>\n",
       "    <tr>\n",
       "      <th>5</th>\n",
       "      <td>2013</td>\n",
       "      <td>1</td>\n",
       "      <td>1</td>\n",
       "      <td>1817</td>\n",
       "      <td>-3</td>\n",
       "      <td>2008</td>\n",
       "      <td>3</td>\n",
       "      <td>AA</td>\n",
       "      <td>N3AXAA</td>\n",
       "      <td>353</td>\n",
       "      <td>LGA</td>\n",
       "      <td>ORD</td>\n",
       "      <td>138</td>\n",
       "      <td>733</td>\n",
       "      <td>18</td>\n",
       "      <td>17</td>\n",
       "    </tr>\n",
       "    <tr>\n",
       "      <th>8</th>\n",
       "      <td>2013</td>\n",
       "      <td>9</td>\n",
       "      <td>26</td>\n",
       "      <td>725</td>\n",
       "      <td>-10</td>\n",
       "      <td>1027</td>\n",
       "      <td>-8</td>\n",
       "      <td>AA</td>\n",
       "      <td>N3FSAA</td>\n",
       "      <td>2279</td>\n",
       "      <td>LGA</td>\n",
       "      <td>MIA</td>\n",
       "      <td>148</td>\n",
       "      <td>1096</td>\n",
       "      <td>7</td>\n",
       "      <td>25</td>\n",
       "    </tr>\n",
       "    <tr>\n",
       "      <th>11</th>\n",
       "      <td>2013</td>\n",
       "      <td>11</td>\n",
       "      <td>22</td>\n",
       "      <td>1320</td>\n",
       "      <td>5</td>\n",
       "      <td>1628</td>\n",
       "      <td>-2</td>\n",
       "      <td>B6</td>\n",
       "      <td>N526JB</td>\n",
       "      <td>1639</td>\n",
       "      <td>LGA</td>\n",
       "      <td>RSW</td>\n",
       "      <td>161</td>\n",
       "      <td>1080</td>\n",
       "      <td>13</td>\n",
       "      <td>20</td>\n",
       "    </tr>\n",
       "    <tr>\n",
       "      <th>13</th>\n",
       "      <td>2013</td>\n",
       "      <td>3</td>\n",
       "      <td>25</td>\n",
       "      <td>2054</td>\n",
       "      <td>115</td>\n",
       "      <td>2256</td>\n",
       "      <td>91</td>\n",
       "      <td>FL</td>\n",
       "      <td>N919AT</td>\n",
       "      <td>645</td>\n",
       "      <td>LGA</td>\n",
       "      <td>ATL</td>\n",
       "      <td>104</td>\n",
       "      <td>762</td>\n",
       "      <td>20</td>\n",
       "      <td>54</td>\n",
       "    </tr>\n",
       "  </tbody>\n",
       "</table>\n",
       "</div>"
      ],
      "text/plain": [
       "    year  month  day  dep_time  dep_delay  arr_time  arr_delay carrier  \\\n",
       "4   2013      7   21      1102         -3      1230         -8      9E   \n",
       "5   2013      1    1      1817         -3      2008          3      AA   \n",
       "8   2013      9   26       725        -10      1027         -8      AA   \n",
       "11  2013     11   22      1320          5      1628         -2      B6   \n",
       "13  2013      3   25      2054        115      2256         91      FL   \n",
       "\n",
       "   tailnum  flight origin dest  air_time  distance  hour  minute  \n",
       "4   N823AY    3652    LGA  ORF        50       296    11       2  \n",
       "5   N3AXAA     353    LGA  ORD       138       733    18      17  \n",
       "8   N3FSAA    2279    LGA  MIA       148      1096     7      25  \n",
       "11  N526JB    1639    LGA  RSW       161      1080    13      20  \n",
       "13  N919AT     645    LGA  ATL       104       762    20      54  "
      ]
     },
     "execution_count": 15,
     "metadata": {},
     "output_type": "execute_result"
    }
   ],
   "source": [
    "df1 = df.loc[df[\"origin\"]==\"LGA\"]\n",
    "df1.head()"
   ]
  },
  {
   "cell_type": "code",
   "execution_count": null,
   "id": "2bc53ce9",
   "metadata": {},
   "outputs": [],
   "source": [
    "df1 = df.loc[df[\"origin\"]!=\"LGA\"]\n",
    "df1.head()"
   ]
  },
  {
   "cell_type": "code",
   "execution_count": null,
   "id": "592a572f",
   "metadata": {},
   "outputs": [],
   "source": [
    "# & equivale a \"AND\"\n",
    "df1 = df.loc[(df[\"origin\"]==\"LGA\") & (df[\"year\"]==2013) & (df[\"air_time\"]<=50)]\n",
    "df1.head()"
   ]
  },
  {
   "cell_type": "code",
   "execution_count": null,
   "id": "20967ee4",
   "metadata": {},
   "outputs": [],
   "source": [
    "# | equivale a \"OR\"\n",
    "df1 = df.loc[(df[\"month\"]==5) | (df[\"month\"]==12)]\n",
    "df1.head()"
   ]
  },
  {
   "cell_type": "markdown",
   "id": "f7989edd",
   "metadata": {},
   "source": [
    "Es posible usar otras variables para filtrar datos"
   ]
  },
  {
   "cell_type": "code",
   "execution_count": null,
   "id": "620933a9",
   "metadata": {},
   "outputs": [],
   "source": [
    "month_var = 5\n",
    "df1 = df.loc[(df[\"month\"] == month_var) & (df[\"air_time\"]>50)]\n",
    "df1.head()"
   ]
  },
  {
   "cell_type": "markdown",
   "id": "2756d3a6",
   "metadata": {},
   "source": [
    "Se puede negar cualquier criterio de filtro"
   ]
  },
  {
   "cell_type": "code",
   "execution_count": 6,
   "id": "ad4f6971",
   "metadata": {},
   "outputs": [
    {
     "data": {
      "text/html": [
       "<div>\n",
       "<style scoped>\n",
       "    .dataframe tbody tr th:only-of-type {\n",
       "        vertical-align: middle;\n",
       "    }\n",
       "\n",
       "    .dataframe tbody tr th {\n",
       "        vertical-align: top;\n",
       "    }\n",
       "\n",
       "    .dataframe thead th {\n",
       "        text-align: right;\n",
       "    }\n",
       "</style>\n",
       "<table border=\"1\" class=\"dataframe\">\n",
       "  <thead>\n",
       "    <tr style=\"text-align: right;\">\n",
       "      <th></th>\n",
       "      <th>year</th>\n",
       "      <th>month</th>\n",
       "      <th>day</th>\n",
       "      <th>dep_time</th>\n",
       "      <th>dep_delay</th>\n",
       "      <th>arr_time</th>\n",
       "      <th>arr_delay</th>\n",
       "      <th>carrier</th>\n",
       "      <th>tailnum</th>\n",
       "      <th>flight</th>\n",
       "      <th>origin</th>\n",
       "      <th>dest</th>\n",
       "      <th>air_time</th>\n",
       "      <th>distance</th>\n",
       "      <th>hour</th>\n",
       "      <th>minute</th>\n",
       "    </tr>\n",
       "  </thead>\n",
       "  <tbody>\n",
       "    <tr>\n",
       "      <th>0</th>\n",
       "      <td>2013</td>\n",
       "      <td>6</td>\n",
       "      <td>30</td>\n",
       "      <td>940</td>\n",
       "      <td>15</td>\n",
       "      <td>1216</td>\n",
       "      <td>-4</td>\n",
       "      <td>VX</td>\n",
       "      <td>N626VA</td>\n",
       "      <td>407</td>\n",
       "      <td>JFK</td>\n",
       "      <td>LAX</td>\n",
       "      <td>313</td>\n",
       "      <td>2475</td>\n",
       "      <td>9</td>\n",
       "      <td>40</td>\n",
       "    </tr>\n",
       "    <tr>\n",
       "      <th>2</th>\n",
       "      <td>2013</td>\n",
       "      <td>12</td>\n",
       "      <td>8</td>\n",
       "      <td>859</td>\n",
       "      <td>-1</td>\n",
       "      <td>1238</td>\n",
       "      <td>11</td>\n",
       "      <td>DL</td>\n",
       "      <td>N712TW</td>\n",
       "      <td>422</td>\n",
       "      <td>JFK</td>\n",
       "      <td>LAX</td>\n",
       "      <td>376</td>\n",
       "      <td>2475</td>\n",
       "      <td>8</td>\n",
       "      <td>59</td>\n",
       "    </tr>\n",
       "    <tr>\n",
       "      <th>4</th>\n",
       "      <td>2013</td>\n",
       "      <td>7</td>\n",
       "      <td>21</td>\n",
       "      <td>1102</td>\n",
       "      <td>-3</td>\n",
       "      <td>1230</td>\n",
       "      <td>-8</td>\n",
       "      <td>9E</td>\n",
       "      <td>N823AY</td>\n",
       "      <td>3652</td>\n",
       "      <td>LGA</td>\n",
       "      <td>ORF</td>\n",
       "      <td>50</td>\n",
       "      <td>296</td>\n",
       "      <td>11</td>\n",
       "      <td>2</td>\n",
       "    </tr>\n",
       "    <tr>\n",
       "      <th>5</th>\n",
       "      <td>2013</td>\n",
       "      <td>1</td>\n",
       "      <td>1</td>\n",
       "      <td>1817</td>\n",
       "      <td>-3</td>\n",
       "      <td>2008</td>\n",
       "      <td>3</td>\n",
       "      <td>AA</td>\n",
       "      <td>N3AXAA</td>\n",
       "      <td>353</td>\n",
       "      <td>LGA</td>\n",
       "      <td>ORD</td>\n",
       "      <td>138</td>\n",
       "      <td>733</td>\n",
       "      <td>18</td>\n",
       "      <td>17</td>\n",
       "    </tr>\n",
       "    <tr>\n",
       "      <th>6</th>\n",
       "      <td>2013</td>\n",
       "      <td>12</td>\n",
       "      <td>9</td>\n",
       "      <td>1259</td>\n",
       "      <td>14</td>\n",
       "      <td>1617</td>\n",
       "      <td>22</td>\n",
       "      <td>WN</td>\n",
       "      <td>N218WN</td>\n",
       "      <td>1428</td>\n",
       "      <td>EWR</td>\n",
       "      <td>HOU</td>\n",
       "      <td>240</td>\n",
       "      <td>1411</td>\n",
       "      <td>12</td>\n",
       "      <td>59</td>\n",
       "    </tr>\n",
       "  </tbody>\n",
       "</table>\n",
       "</div>"
      ],
      "text/plain": [
       "   year  month  day  dep_time  dep_delay  arr_time  arr_delay carrier tailnum  \\\n",
       "0  2013      6   30       940         15      1216         -4      VX  N626VA   \n",
       "2  2013     12    8       859         -1      1238         11      DL  N712TW   \n",
       "4  2013      7   21      1102         -3      1230         -8      9E  N823AY   \n",
       "5  2013      1    1      1817         -3      2008          3      AA  N3AXAA   \n",
       "6  2013     12    9      1259         14      1617         22      WN  N218WN   \n",
       "\n",
       "   flight origin dest  air_time  distance  hour  minute  \n",
       "0     407    JFK  LAX       313      2475     9      40  \n",
       "2     422    JFK  LAX       376      2475     8      59  \n",
       "4    3652    LGA  ORF        50       296    11       2  \n",
       "5     353    LGA  ORD       138       733    18      17  \n",
       "6    1428    EWR  HOU       240      1411    12      59  "
      ]
     },
     "execution_count": 6,
     "metadata": {},
     "output_type": "execute_result"
    }
   ],
   "source": [
    "month_var = 5\n",
    "df1 = df.loc[~((df[\"month\"] == month_var) & (df[\"air_time\"]>50))]\n",
    "df1.head()"
   ]
  },
  {
   "cell_type": "markdown",
   "id": "fb147232",
   "metadata": {
    "heading_collapsed": true
   },
   "source": [
    "#### <font color=#845600> Filtro por posición de filas y columnas"
   ]
  },
  {
   "cell_type": "code",
   "execution_count": null,
   "id": "f74fd6d0",
   "metadata": {
    "hidden": true
   },
   "outputs": [],
   "source": [
    "df.iloc[:4] #First 4 rows, all columns\n",
    "df.iloc[1:5,] #Second to fifth row\n",
    "df.iloc[5,0] #Sixth row and first column\n",
    "df.iloc[1:5,0] #Second to Fifth row, first column\n",
    "df.iloc[1:5,:5] #Second to Fifth row, first 5 columns\n",
    "df.iloc[2:7,1:3] #Third to Seventh row, 2nd and 3rd column"
   ]
  },
  {
   "cell_type": "markdown",
   "id": "42826b6e",
   "metadata": {
    "heading_collapsed": true
   },
   "source": [
    "#### <font color=#845600> Filtro por posición de filas y nombre de columnas"
   ]
  },
  {
   "cell_type": "code",
   "execution_count": null,
   "id": "f9d06e3a",
   "metadata": {
    "hidden": true,
    "scrolled": false
   },
   "outputs": [],
   "source": [
    "# Selección de 5 filas y columnas con nombre \"origin\" y \"distance\"\n",
    "df1 = df.loc[df.index[10:16],[\"origin\",\"distance\"]]\n",
    "df1.head()"
   ]
  },
  {
   "cell_type": "code",
   "execution_count": null,
   "id": "fb1ba956",
   "metadata": {
    "hidden": true
   },
   "outputs": [],
   "source": [
    "# Filtro múltiple\n",
    "df1 = df.loc[(df[\"origin\"]==\"LGA\") & (df[\"year\"]==2013) & (df[\"air_time\"]<=50),\n",
    "             [\"origin\",\"distance\",\"year\"]]\n",
    "df1.head()"
   ]
  },
  {
   "cell_type": "markdown",
   "id": "583460b2",
   "metadata": {
    "heading_collapsed": true
   },
   "source": [
    "#### <font color=#845600> Filtro para seleccionar múltiples valores"
   ]
  },
  {
   "cell_type": "code",
   "execution_count": 3,
   "id": "9b497e86",
   "metadata": {
    "hidden": true
   },
   "outputs": [
    {
     "data": {
      "text/html": [
       "<div>\n",
       "<style scoped>\n",
       "    .dataframe tbody tr th:only-of-type {\n",
       "        vertical-align: middle;\n",
       "    }\n",
       "\n",
       "    .dataframe tbody tr th {\n",
       "        vertical-align: top;\n",
       "    }\n",
       "\n",
       "    .dataframe thead th {\n",
       "        text-align: right;\n",
       "    }\n",
       "</style>\n",
       "<table border=\"1\" class=\"dataframe\">\n",
       "  <thead>\n",
       "    <tr style=\"text-align: right;\">\n",
       "      <th></th>\n",
       "      <th>year</th>\n",
       "      <th>month</th>\n",
       "      <th>day</th>\n",
       "      <th>dep_time</th>\n",
       "      <th>dep_delay</th>\n",
       "      <th>arr_time</th>\n",
       "      <th>arr_delay</th>\n",
       "      <th>carrier</th>\n",
       "      <th>tailnum</th>\n",
       "      <th>flight</th>\n",
       "      <th>origin</th>\n",
       "      <th>dest</th>\n",
       "      <th>air_time</th>\n",
       "      <th>distance</th>\n",
       "      <th>hour</th>\n",
       "      <th>minute</th>\n",
       "    </tr>\n",
       "  </thead>\n",
       "  <tbody>\n",
       "    <tr>\n",
       "      <th>0</th>\n",
       "      <td>2013</td>\n",
       "      <td>6</td>\n",
       "      <td>30</td>\n",
       "      <td>940</td>\n",
       "      <td>15</td>\n",
       "      <td>1216</td>\n",
       "      <td>-4</td>\n",
       "      <td>VX</td>\n",
       "      <td>N626VA</td>\n",
       "      <td>407</td>\n",
       "      <td>JFK</td>\n",
       "      <td>LAX</td>\n",
       "      <td>313</td>\n",
       "      <td>2475</td>\n",
       "      <td>9</td>\n",
       "      <td>40</td>\n",
       "    </tr>\n",
       "    <tr>\n",
       "      <th>1</th>\n",
       "      <td>2013</td>\n",
       "      <td>5</td>\n",
       "      <td>7</td>\n",
       "      <td>1657</td>\n",
       "      <td>-3</td>\n",
       "      <td>2104</td>\n",
       "      <td>10</td>\n",
       "      <td>DL</td>\n",
       "      <td>N3760C</td>\n",
       "      <td>329</td>\n",
       "      <td>JFK</td>\n",
       "      <td>SJU</td>\n",
       "      <td>216</td>\n",
       "      <td>1598</td>\n",
       "      <td>16</td>\n",
       "      <td>57</td>\n",
       "    </tr>\n",
       "    <tr>\n",
       "      <th>2</th>\n",
       "      <td>2013</td>\n",
       "      <td>12</td>\n",
       "      <td>8</td>\n",
       "      <td>859</td>\n",
       "      <td>-1</td>\n",
       "      <td>1238</td>\n",
       "      <td>11</td>\n",
       "      <td>DL</td>\n",
       "      <td>N712TW</td>\n",
       "      <td>422</td>\n",
       "      <td>JFK</td>\n",
       "      <td>LAX</td>\n",
       "      <td>376</td>\n",
       "      <td>2475</td>\n",
       "      <td>8</td>\n",
       "      <td>59</td>\n",
       "    </tr>\n",
       "    <tr>\n",
       "      <th>3</th>\n",
       "      <td>2013</td>\n",
       "      <td>5</td>\n",
       "      <td>14</td>\n",
       "      <td>1841</td>\n",
       "      <td>-4</td>\n",
       "      <td>2122</td>\n",
       "      <td>-34</td>\n",
       "      <td>DL</td>\n",
       "      <td>N914DL</td>\n",
       "      <td>2391</td>\n",
       "      <td>JFK</td>\n",
       "      <td>TPA</td>\n",
       "      <td>135</td>\n",
       "      <td>1005</td>\n",
       "      <td>18</td>\n",
       "      <td>41</td>\n",
       "    </tr>\n",
       "    <tr>\n",
       "      <th>4</th>\n",
       "      <td>2013</td>\n",
       "      <td>7</td>\n",
       "      <td>21</td>\n",
       "      <td>1102</td>\n",
       "      <td>-3</td>\n",
       "      <td>1230</td>\n",
       "      <td>-8</td>\n",
       "      <td>9E</td>\n",
       "      <td>N823AY</td>\n",
       "      <td>3652</td>\n",
       "      <td>LGA</td>\n",
       "      <td>ORF</td>\n",
       "      <td>50</td>\n",
       "      <td>296</td>\n",
       "      <td>11</td>\n",
       "      <td>2</td>\n",
       "    </tr>\n",
       "  </tbody>\n",
       "</table>\n",
       "</div>"
      ],
      "text/plain": [
       "   year  month  day  dep_time  dep_delay  arr_time  arr_delay carrier tailnum  \\\n",
       "0  2013      6   30       940         15      1216         -4      VX  N626VA   \n",
       "1  2013      5    7      1657         -3      2104         10      DL  N3760C   \n",
       "2  2013     12    8       859         -1      1238         11      DL  N712TW   \n",
       "3  2013      5   14      1841         -4      2122        -34      DL  N914DL   \n",
       "4  2013      7   21      1102         -3      1230         -8      9E  N823AY   \n",
       "\n",
       "   flight origin dest  air_time  distance  hour  minute  \n",
       "0     407    JFK  LAX       313      2475     9      40  \n",
       "1     329    JFK  SJU       216      1598    16      57  \n",
       "2     422    JFK  LAX       376      2475     8      59  \n",
       "3    2391    JFK  TPA       135      1005    18      41  \n",
       "4    3652    LGA  ORF        50       296    11       2  "
      ]
     },
     "execution_count": 3,
     "metadata": {},
     "output_type": "execute_result"
    }
   ],
   "source": [
    "df1 = df[df[\"origin\"].isin([\"JFK\", \"LGA\"])]\n",
    "df1.head()"
   ]
  },
  {
   "cell_type": "markdown",
   "id": "c6052384",
   "metadata": {
    "hidden": true
   },
   "source": [
    "Los valores que se deben conservar pueden ser almacenados en una lista"
   ]
  },
  {
   "cell_type": "code",
   "execution_count": null,
   "id": "eefdc8ca",
   "metadata": {
    "hidden": true
   },
   "outputs": [],
   "source": [
    "variables = [\"JFK\",\"LGA\"]\n",
    "df1 = df[df[\"origin\"].isin(variables)]\n",
    "df1.head()"
   ]
  },
  {
   "cell_type": "markdown",
   "id": "760f75b7",
   "metadata": {
    "hidden": true
   },
   "source": [
    "Los valores que **no** se deben conservar pueden ser almacenados en una lista"
   ]
  },
  {
   "cell_type": "code",
   "execution_count": null,
   "id": "35e72be7",
   "metadata": {
    "hidden": true
   },
   "outputs": [],
   "source": [
    "remove_var = [\"JFK\",\"LGA\"]\n",
    "df1 = df[~df[\"origin\"].isin(remove_var)]\n",
    "df1.head()"
   ]
  },
  {
   "cell_type": "markdown",
   "id": "9b9dba09",
   "metadata": {
    "heading_collapsed": true
   },
   "source": [
    "#### <font color=#845600> Filtar columnas"
   ]
  },
  {
   "cell_type": "code",
   "execution_count": 11,
   "id": "75fe05fe",
   "metadata": {
    "hidden": true
   },
   "outputs": [
    {
     "data": {
      "text/html": [
       "<div>\n",
       "<style scoped>\n",
       "    .dataframe tbody tr th:only-of-type {\n",
       "        vertical-align: middle;\n",
       "    }\n",
       "\n",
       "    .dataframe tbody tr th {\n",
       "        vertical-align: top;\n",
       "    }\n",
       "\n",
       "    .dataframe thead th {\n",
       "        text-align: right;\n",
       "    }\n",
       "</style>\n",
       "<table border=\"1\" class=\"dataframe\">\n",
       "  <thead>\n",
       "    <tr style=\"text-align: right;\">\n",
       "      <th></th>\n",
       "      <th>flight</th>\n",
       "      <th>origin</th>\n",
       "      <th>dest</th>\n",
       "    </tr>\n",
       "  </thead>\n",
       "  <tbody>\n",
       "    <tr>\n",
       "      <th>0</th>\n",
       "      <td>407</td>\n",
       "      <td>JFK</td>\n",
       "      <td>LAX</td>\n",
       "    </tr>\n",
       "    <tr>\n",
       "      <th>1</th>\n",
       "      <td>329</td>\n",
       "      <td>JFK</td>\n",
       "      <td>SJU</td>\n",
       "    </tr>\n",
       "    <tr>\n",
       "      <th>2</th>\n",
       "      <td>422</td>\n",
       "      <td>JFK</td>\n",
       "      <td>LAX</td>\n",
       "    </tr>\n",
       "    <tr>\n",
       "      <th>3</th>\n",
       "      <td>2391</td>\n",
       "      <td>JFK</td>\n",
       "      <td>TPA</td>\n",
       "    </tr>\n",
       "    <tr>\n",
       "      <th>4</th>\n",
       "      <td>3652</td>\n",
       "      <td>LGA</td>\n",
       "      <td>ORF</td>\n",
       "    </tr>\n",
       "  </tbody>\n",
       "</table>\n",
       "</div>"
      ],
      "text/plain": [
       "   flight origin dest\n",
       "0     407    JFK  LAX\n",
       "1     329    JFK  SJU\n",
       "2     422    JFK  LAX\n",
       "3    2391    JFK  TPA\n",
       "4    3652    LGA  ORF"
      ]
     },
     "execution_count": 11,
     "metadata": {},
     "output_type": "execute_result"
    }
   ],
   "source": [
    "# Selección de columna: 'flight' hasta 'dest' para todas las filas\n",
    "df1 = df.loc[:,\"flight\":\"dest\"]\n",
    "df1.head()"
   ]
  },
  {
   "cell_type": "code",
   "execution_count": 9,
   "id": "b8a56b54",
   "metadata": {
    "hidden": true
   },
   "outputs": [
    {
     "data": {
      "text/html": [
       "<div>\n",
       "<style scoped>\n",
       "    .dataframe tbody tr th:only-of-type {\n",
       "        vertical-align: middle;\n",
       "    }\n",
       "\n",
       "    .dataframe tbody tr th {\n",
       "        vertical-align: top;\n",
       "    }\n",
       "\n",
       "    .dataframe thead th {\n",
       "        text-align: right;\n",
       "    }\n",
       "</style>\n",
       "<table border=\"1\" class=\"dataframe\">\n",
       "  <thead>\n",
       "    <tr style=\"text-align: right;\">\n",
       "      <th></th>\n",
       "      <th>flight</th>\n",
       "      <th>dest</th>\n",
       "    </tr>\n",
       "  </thead>\n",
       "  <tbody>\n",
       "    <tr>\n",
       "      <th>0</th>\n",
       "      <td>407</td>\n",
       "      <td>LAX</td>\n",
       "    </tr>\n",
       "    <tr>\n",
       "      <th>1</th>\n",
       "      <td>329</td>\n",
       "      <td>SJU</td>\n",
       "    </tr>\n",
       "    <tr>\n",
       "      <th>2</th>\n",
       "      <td>422</td>\n",
       "      <td>LAX</td>\n",
       "    </tr>\n",
       "    <tr>\n",
       "      <th>3</th>\n",
       "      <td>2391</td>\n",
       "      <td>TPA</td>\n",
       "    </tr>\n",
       "    <tr>\n",
       "      <th>4</th>\n",
       "      <td>3652</td>\n",
       "      <td>ORF</td>\n",
       "    </tr>\n",
       "  </tbody>\n",
       "</table>\n",
       "</div>"
      ],
      "text/plain": [
       "   flight dest\n",
       "0     407  LAX\n",
       "1     329  SJU\n",
       "2     422  LAX\n",
       "3    2391  TPA\n",
       "4    3652  ORF"
      ]
     },
     "execution_count": 9,
     "metadata": {},
     "output_type": "execute_result"
    }
   ],
   "source": [
    "# Selección de columna: 'flight' y 'dest'\n",
    "df1 = df.loc[:,[\"flight\",\"dest\"]]\n",
    "df1.head()"
   ]
  },
  {
   "cell_type": "code",
   "execution_count": 8,
   "id": "005e9c07",
   "metadata": {
    "hidden": true,
    "scrolled": true
   },
   "outputs": [
    {
     "data": {
      "text/html": [
       "<div>\n",
       "<style scoped>\n",
       "    .dataframe tbody tr th:only-of-type {\n",
       "        vertical-align: middle;\n",
       "    }\n",
       "\n",
       "    .dataframe tbody tr th {\n",
       "        vertical-align: top;\n",
       "    }\n",
       "\n",
       "    .dataframe thead th {\n",
       "        text-align: right;\n",
       "    }\n",
       "</style>\n",
       "<table border=\"1\" class=\"dataframe\">\n",
       "  <thead>\n",
       "    <tr style=\"text-align: right;\">\n",
       "      <th></th>\n",
       "      <th>flight</th>\n",
       "      <th>dest</th>\n",
       "    </tr>\n",
       "  </thead>\n",
       "  <tbody>\n",
       "    <tr>\n",
       "      <th>0</th>\n",
       "      <td>407</td>\n",
       "      <td>LAX</td>\n",
       "    </tr>\n",
       "    <tr>\n",
       "      <th>1</th>\n",
       "      <td>329</td>\n",
       "      <td>SJU</td>\n",
       "    </tr>\n",
       "    <tr>\n",
       "      <th>2</th>\n",
       "      <td>422</td>\n",
       "      <td>LAX</td>\n",
       "    </tr>\n",
       "    <tr>\n",
       "      <th>3</th>\n",
       "      <td>2391</td>\n",
       "      <td>TPA</td>\n",
       "    </tr>\n",
       "    <tr>\n",
       "      <th>4</th>\n",
       "      <td>3652</td>\n",
       "      <td>ORF</td>\n",
       "    </tr>\n",
       "  </tbody>\n",
       "</table>\n",
       "</div>"
      ],
      "text/plain": [
       "   flight dest\n",
       "0     407  LAX\n",
       "1     329  SJU\n",
       "2     422  LAX\n",
       "3    2391  TPA\n",
       "4    3652  ORF"
      ]
     },
     "execution_count": 8,
     "metadata": {},
     "output_type": "execute_result"
    }
   ],
   "source": [
    "# Selección de columna: 'flight' y 'dest'\n",
    "df1 = df[[\"flight\",\"dest\"]]\n",
    "df1.head()"
   ]
  },
  {
   "cell_type": "code",
   "execution_count": 37,
   "id": "ab5ac699",
   "metadata": {
    "hidden": true
   },
   "outputs": [
    {
     "data": {
      "text/html": [
       "<div>\n",
       "<style scoped>\n",
       "    .dataframe tbody tr th:only-of-type {\n",
       "        vertical-align: middle;\n",
       "    }\n",
       "\n",
       "    .dataframe tbody tr th {\n",
       "        vertical-align: top;\n",
       "    }\n",
       "\n",
       "    .dataframe thead th {\n",
       "        text-align: right;\n",
       "    }\n",
       "</style>\n",
       "<table border=\"1\" class=\"dataframe\">\n",
       "  <thead>\n",
       "    <tr style=\"text-align: right;\">\n",
       "      <th></th>\n",
       "      <th>month</th>\n",
       "      <th>day</th>\n",
       "      <th>dep_time</th>\n",
       "      <th>dep_delay</th>\n",
       "      <th>arr_time</th>\n",
       "      <th>arr_delay</th>\n",
       "      <th>carrier</th>\n",
       "      <th>tailnum</th>\n",
       "      <th>origin</th>\n",
       "      <th>air_time</th>\n",
       "      <th>distance</th>\n",
       "      <th>hour</th>\n",
       "      <th>minute</th>\n",
       "    </tr>\n",
       "  </thead>\n",
       "  <tbody>\n",
       "    <tr>\n",
       "      <th>0</th>\n",
       "      <td>6</td>\n",
       "      <td>30</td>\n",
       "      <td>940</td>\n",
       "      <td>15</td>\n",
       "      <td>1216</td>\n",
       "      <td>-4</td>\n",
       "      <td>VX</td>\n",
       "      <td>N626VA</td>\n",
       "      <td>JFK</td>\n",
       "      <td>313</td>\n",
       "      <td>2475</td>\n",
       "      <td>9</td>\n",
       "      <td>40</td>\n",
       "    </tr>\n",
       "    <tr>\n",
       "      <th>1</th>\n",
       "      <td>5</td>\n",
       "      <td>7</td>\n",
       "      <td>1657</td>\n",
       "      <td>-3</td>\n",
       "      <td>2104</td>\n",
       "      <td>10</td>\n",
       "      <td>DL</td>\n",
       "      <td>N3760C</td>\n",
       "      <td>JFK</td>\n",
       "      <td>216</td>\n",
       "      <td>1598</td>\n",
       "      <td>16</td>\n",
       "      <td>57</td>\n",
       "    </tr>\n",
       "    <tr>\n",
       "      <th>2</th>\n",
       "      <td>12</td>\n",
       "      <td>8</td>\n",
       "      <td>859</td>\n",
       "      <td>-1</td>\n",
       "      <td>1238</td>\n",
       "      <td>11</td>\n",
       "      <td>DL</td>\n",
       "      <td>N712TW</td>\n",
       "      <td>JFK</td>\n",
       "      <td>376</td>\n",
       "      <td>2475</td>\n",
       "      <td>8</td>\n",
       "      <td>59</td>\n",
       "    </tr>\n",
       "    <tr>\n",
       "      <th>3</th>\n",
       "      <td>5</td>\n",
       "      <td>14</td>\n",
       "      <td>1841</td>\n",
       "      <td>-4</td>\n",
       "      <td>2122</td>\n",
       "      <td>-34</td>\n",
       "      <td>DL</td>\n",
       "      <td>N914DL</td>\n",
       "      <td>JFK</td>\n",
       "      <td>135</td>\n",
       "      <td>1005</td>\n",
       "      <td>18</td>\n",
       "      <td>41</td>\n",
       "    </tr>\n",
       "    <tr>\n",
       "      <th>4</th>\n",
       "      <td>7</td>\n",
       "      <td>21</td>\n",
       "      <td>1102</td>\n",
       "      <td>-3</td>\n",
       "      <td>1230</td>\n",
       "      <td>-8</td>\n",
       "      <td>9E</td>\n",
       "      <td>N823AY</td>\n",
       "      <td>LGA</td>\n",
       "      <td>50</td>\n",
       "      <td>296</td>\n",
       "      <td>11</td>\n",
       "      <td>2</td>\n",
       "    </tr>\n",
       "  </tbody>\n",
       "</table>\n",
       "</div>"
      ],
      "text/plain": [
       "   month  day  dep_time  dep_delay  arr_time  arr_delay carrier tailnum  \\\n",
       "0      6   30       940         15      1216         -4      VX  N626VA   \n",
       "1      5    7      1657         -3      2104         10      DL  N3760C   \n",
       "2     12    8       859         -1      1238         11      DL  N712TW   \n",
       "3      5   14      1841         -4      2122        -34      DL  N914DL   \n",
       "4      7   21      1102         -3      1230         -8      9E  N823AY   \n",
       "\n",
       "  origin  air_time  distance  hour  minute  \n",
       "0    JFK       313      2475     9      40  \n",
       "1    JFK       216      1598    16      57  \n",
       "2    JFK       376      2475     8      59  \n",
       "3    JFK       135      1005    18      41  \n",
       "4    LGA        50       296    11       2  "
      ]
     },
     "execution_count": 37,
     "metadata": {},
     "output_type": "execute_result"
    }
   ],
   "source": [
    "# Selección de columnas diferentes de 'flight', 'dest' y 'year'\n",
    "# También es posible eliminar filas si fuese necesario\n",
    "df1 =df.drop(['flight','dest','year'], axis = 1)\n",
    "df1.head()"
   ]
  },
  {
   "cell_type": "markdown",
   "id": "7e72fa7a",
   "metadata": {
    "heading_collapsed": true
   },
   "source": [
    "#### <font color=#845600> Filtar valores duplicados"
   ]
  },
  {
   "cell_type": "markdown",
   "id": "ce13a53b",
   "metadata": {
    "hidden": true
   },
   "source": [
    "Devuelve aquellos elementos que tienen valores duplicados. Así, la tabla resultante contendrá valores únicos según los parámetros de la función."
   ]
  },
  {
   "cell_type": "code",
   "execution_count": 86,
   "id": "8c0d7c53",
   "metadata": {
    "hidden": true
   },
   "outputs": [
    {
     "data": {
      "text/html": [
       "<div>\n",
       "<style scoped>\n",
       "    .dataframe tbody tr th:only-of-type {\n",
       "        vertical-align: middle;\n",
       "    }\n",
       "\n",
       "    .dataframe tbody tr th {\n",
       "        vertical-align: top;\n",
       "    }\n",
       "\n",
       "    .dataframe thead th {\n",
       "        text-align: right;\n",
       "    }\n",
       "</style>\n",
       "<table border=\"1\" class=\"dataframe\">\n",
       "  <thead>\n",
       "    <tr style=\"text-align: right;\">\n",
       "      <th></th>\n",
       "      <th>year</th>\n",
       "      <th>month</th>\n",
       "      <th>day</th>\n",
       "      <th>dep_time</th>\n",
       "      <th>dep_delay</th>\n",
       "      <th>arr_time</th>\n",
       "      <th>arr_delay</th>\n",
       "      <th>carrier</th>\n",
       "      <th>tailnum</th>\n",
       "      <th>flight</th>\n",
       "      <th>origin</th>\n",
       "      <th>dest</th>\n",
       "      <th>air_time</th>\n",
       "      <th>distance</th>\n",
       "      <th>hour</th>\n",
       "      <th>minute</th>\n",
       "    </tr>\n",
       "  </thead>\n",
       "  <tbody>\n",
       "    <tr>\n",
       "      <th>0</th>\n",
       "      <td>2013</td>\n",
       "      <td>6</td>\n",
       "      <td>30</td>\n",
       "      <td>940</td>\n",
       "      <td>15</td>\n",
       "      <td>1216</td>\n",
       "      <td>-4</td>\n",
       "      <td>VX</td>\n",
       "      <td>N626VA</td>\n",
       "      <td>407</td>\n",
       "      <td>JFK</td>\n",
       "      <td>LAX</td>\n",
       "      <td>313</td>\n",
       "      <td>2475</td>\n",
       "      <td>9</td>\n",
       "      <td>40</td>\n",
       "    </tr>\n",
       "    <tr>\n",
       "      <th>4</th>\n",
       "      <td>2013</td>\n",
       "      <td>7</td>\n",
       "      <td>21</td>\n",
       "      <td>1102</td>\n",
       "      <td>-3</td>\n",
       "      <td>1230</td>\n",
       "      <td>-8</td>\n",
       "      <td>9E</td>\n",
       "      <td>N823AY</td>\n",
       "      <td>3652</td>\n",
       "      <td>LGA</td>\n",
       "      <td>ORF</td>\n",
       "      <td>50</td>\n",
       "      <td>296</td>\n",
       "      <td>11</td>\n",
       "      <td>2</td>\n",
       "    </tr>\n",
       "    <tr>\n",
       "      <th>6</th>\n",
       "      <td>2013</td>\n",
       "      <td>12</td>\n",
       "      <td>9</td>\n",
       "      <td>1259</td>\n",
       "      <td>14</td>\n",
       "      <td>1617</td>\n",
       "      <td>22</td>\n",
       "      <td>WN</td>\n",
       "      <td>N218WN</td>\n",
       "      <td>1428</td>\n",
       "      <td>EWR</td>\n",
       "      <td>HOU</td>\n",
       "      <td>240</td>\n",
       "      <td>1411</td>\n",
       "      <td>12</td>\n",
       "      <td>59</td>\n",
       "    </tr>\n",
       "  </tbody>\n",
       "</table>\n",
       "</div>"
      ],
      "text/plain": [
       "   year  month  day  dep_time  dep_delay  arr_time  arr_delay carrier tailnum  \\\n",
       "0  2013      6   30       940         15      1216         -4      VX  N626VA   \n",
       "4  2013      7   21      1102         -3      1230         -8      9E  N823AY   \n",
       "6  2013     12    9      1259         14      1617         22      WN  N218WN   \n",
       "\n",
       "   flight origin dest  air_time  distance  hour  minute  \n",
       "0     407    JFK  LAX       313      2475     9      40  \n",
       "4    3652    LGA  ORF        50       296    11       2  \n",
       "6    1428    EWR  HOU       240      1411    12      59  "
      ]
     },
     "execution_count": 86,
     "metadata": {},
     "output_type": "execute_result"
    }
   ],
   "source": [
    "# keep: If 'first', it considers first value as unique and rest of the same values as duplicate.\n",
    "# keep: If 'last', it considers last value as unique and rest of the same values as duplicate.\n",
    "# keep: If False, it consider all of the same values as duplicates\n",
    "# inplace: Boolean values, removes rows with duplicates if True.\n",
    "# ignore_indexbool, default False. If True, the resulting axis will be labeled 0, 1, …, n - 1.\n",
    "\n",
    "df1 = df.drop_duplicates(subset = \"origin\",\n",
    "                         keep = 'first',\n",
    "                         inplace = False,\n",
    "                         ignore_index = False)\n",
    "\n",
    "df1.head()"
   ]
  },
  {
   "cell_type": "markdown",
   "id": "6f9091d4",
   "metadata": {
    "hidden": true
   },
   "source": [
    "Se pueden buscar valores duplicados en una combinación de varias columnas"
   ]
  },
  {
   "cell_type": "code",
   "execution_count": 87,
   "id": "4e7641b5",
   "metadata": {
    "hidden": true
   },
   "outputs": [
    {
     "data": {
      "text/html": [
       "<div>\n",
       "<style scoped>\n",
       "    .dataframe tbody tr th:only-of-type {\n",
       "        vertical-align: middle;\n",
       "    }\n",
       "\n",
       "    .dataframe tbody tr th {\n",
       "        vertical-align: top;\n",
       "    }\n",
       "\n",
       "    .dataframe thead th {\n",
       "        text-align: right;\n",
       "    }\n",
       "</style>\n",
       "<table border=\"1\" class=\"dataframe\">\n",
       "  <thead>\n",
       "    <tr style=\"text-align: right;\">\n",
       "      <th></th>\n",
       "      <th>Name</th>\n",
       "      <th>Age</th>\n",
       "      <th>University</th>\n",
       "    </tr>\n",
       "  </thead>\n",
       "  <tbody>\n",
       "    <tr>\n",
       "      <th>0</th>\n",
       "      <td>Carlos</td>\n",
       "      <td>23</td>\n",
       "      <td>AA</td>\n",
       "    </tr>\n",
       "    <tr>\n",
       "      <th>1</th>\n",
       "      <td>Santiago</td>\n",
       "      <td>25</td>\n",
       "      <td>DD</td>\n",
       "    </tr>\n",
       "  </tbody>\n",
       "</table>\n",
       "</div>"
      ],
      "text/plain": [
       "       Name  Age University\n",
       "0    Carlos   23         AA\n",
       "1  Santiago   25         DD"
      ]
     },
     "execution_count": 87,
     "metadata": {},
     "output_type": "execute_result"
    }
   ],
   "source": [
    "# keep: If 'first', it considers first value as unique and rest of the same values as duplicate.\n",
    "# keep: If 'last', it considers last value as unique and rest of the same values as duplicate.\n",
    "# keep: If False, it consider all of the same values as duplicates\n",
    "# inplace: Boolean values, removes rows with duplicates if True.\n",
    "# ignore_indexbool, default False. If True, the resulting axis will be labeled 0, 1, …, n - 1.\n",
    "\n",
    "df = pd.DataFrame({'Name'       : ['Carlos', 'Andrés', 'Alejandro', 'Santiago'],\n",
    "                   'Age'        : [23, 24, 24, 25],\n",
    "                   'University' : ['AA', 'BB', 'BB', 'DD']})\n",
    "\n",
    "df1 = df.drop_duplicates(subset = [\"Age\",\"University\"],\n",
    "                         keep = False,\n",
    "                         inplace = False,\n",
    "                         ignore_index = True)\n",
    "\n",
    "df1.head()"
   ]
  },
  {
   "cell_type": "markdown",
   "id": "a6e2f95a",
   "metadata": {
    "hidden": true
   },
   "source": [
    "Conservar **solamente** los valores duplicados"
   ]
  },
  {
   "cell_type": "code",
   "execution_count": 95,
   "id": "fe5217c4",
   "metadata": {
    "hidden": true
   },
   "outputs": [
    {
     "data": {
      "text/html": [
       "<div>\n",
       "<style scoped>\n",
       "    .dataframe tbody tr th:only-of-type {\n",
       "        vertical-align: middle;\n",
       "    }\n",
       "\n",
       "    .dataframe tbody tr th {\n",
       "        vertical-align: top;\n",
       "    }\n",
       "\n",
       "    .dataframe thead th {\n",
       "        text-align: right;\n",
       "    }\n",
       "</style>\n",
       "<table border=\"1\" class=\"dataframe\">\n",
       "  <thead>\n",
       "    <tr style=\"text-align: right;\">\n",
       "      <th></th>\n",
       "      <th>Name</th>\n",
       "      <th>Age</th>\n",
       "      <th>University</th>\n",
       "    </tr>\n",
       "  </thead>\n",
       "  <tbody>\n",
       "    <tr>\n",
       "      <th>1</th>\n",
       "      <td>Andrés</td>\n",
       "      <td>24</td>\n",
       "      <td>BB</td>\n",
       "    </tr>\n",
       "    <tr>\n",
       "      <th>2</th>\n",
       "      <td>Alejandro</td>\n",
       "      <td>24</td>\n",
       "      <td>BB</td>\n",
       "    </tr>\n",
       "  </tbody>\n",
       "</table>\n",
       "</div>"
      ],
      "text/plain": [
       "        Name  Age University\n",
       "1     Andrés   24         BB\n",
       "2  Alejandro   24         BB"
      ]
     },
     "execution_count": 95,
     "metadata": {},
     "output_type": "execute_result"
    }
   ],
   "source": [
    "# keep{‘first’, ‘last’, False}, default ‘first’\n",
    "# Determines which duplicates (if any) to mark.\n",
    "# first : Mark duplicates as True except for the first occurrence.\n",
    "# last : Mark duplicates as True except for the last occurrence.\n",
    "# False : Mark all duplicates as True.\n",
    "\n",
    "df = pd.DataFrame({'Name'       : ['Carlos', 'Andrés', 'Alejandro', 'Santiago'],\n",
    "                   'Age'        : [23, 24, 24, 25],\n",
    "                   'University' : ['AA', 'BB', 'BB', 'BB']})\n",
    "\n",
    "df1 = df[df[[\"Age\",\"University\"]].duplicated(keep = False)]\n",
    "df1.head()"
   ]
  },
  {
   "cell_type": "markdown",
   "id": "ee954607",
   "metadata": {
    "heading_collapsed": true
   },
   "source": [
    "#### <font color=#845600> Filtrar valores faltantes"
   ]
  },
  {
   "cell_type": "code",
   "execution_count": 50,
   "id": "a8ee7663",
   "metadata": {
    "hidden": true
   },
   "outputs": [
    {
     "data": {
      "text/html": [
       "<div>\n",
       "<style scoped>\n",
       "    .dataframe tbody tr th:only-of-type {\n",
       "        vertical-align: middle;\n",
       "    }\n",
       "\n",
       "    .dataframe tbody tr th {\n",
       "        vertical-align: top;\n",
       "    }\n",
       "\n",
       "    .dataframe thead th {\n",
       "        text-align: right;\n",
       "    }\n",
       "</style>\n",
       "<table border=\"1\" class=\"dataframe\">\n",
       "  <thead>\n",
       "    <tr style=\"text-align: right;\">\n",
       "      <th></th>\n",
       "      <th>Name</th>\n",
       "      <th>Age</th>\n",
       "      <th>University</th>\n",
       "    </tr>\n",
       "  </thead>\n",
       "  <tbody>\n",
       "    <tr>\n",
       "      <th>0</th>\n",
       "      <td>Carlos</td>\n",
       "      <td>23.0</td>\n",
       "      <td>AA</td>\n",
       "    </tr>\n",
       "    <tr>\n",
       "      <th>5</th>\n",
       "      <td>Marcelo</td>\n",
       "      <td>27.0</td>\n",
       "      <td>EE</td>\n",
       "    </tr>\n",
       "  </tbody>\n",
       "</table>\n",
       "</div>"
      ],
      "text/plain": [
       "      Name   Age University\n",
       "0   Carlos  23.0         AA\n",
       "5  Marcelo  27.0         EE"
      ]
     },
     "execution_count": 50,
     "metadata": {},
     "output_type": "execute_result"
    }
   ],
   "source": [
    "# La librería \"numpy\" proporciona una forma para generar un valor vacío\n",
    "import numpy as np\n",
    "\n",
    "# axis\n",
    "# axis{0 or ‘index’, 1 or ‘columns’}, default 0\n",
    "# Determine if rows or columns which contain missing values are removed.\n",
    "# 0, or ‘index’ : Drop rows which contain missing values.\n",
    "# 1, or ‘columns’ : Drop columns which contain missing value.\n",
    "\n",
    "# how\n",
    "# how: {‘any’, ‘all’}, default ‘any’\n",
    "# Determine if row or column is removed from DataFrame, when we have at least one NA or all NA.\n",
    "# ‘any’ : If any NA values are present, drop that row or column.\n",
    "# ‘all’ : If all values are NA, drop that row or column.\n",
    "\n",
    "# subset\n",
    "# subset: column label or sequence of labels, optional\n",
    "# Labels along other axis to consider, e.g. if you are dropping rows these would be a list of columns to include.\n",
    "\n",
    "# inplace\n",
    "# inplace: bool, default False\n",
    "# If True, do operation inplace and return None.\n",
    "\n",
    "# La función dropna y notnull pueden identificar a los valores de np.nan, None y pd.NA\n",
    "\n",
    "df = pd.DataFrame({'Name'       : ['Carlos', 'Andrés', np.nan, 'Santiago', \"Fernand0\", \"Marcelo\", np.nan],\n",
    "                   'Age'        : [23, 24, 24, 25, None, 27, None],\n",
    "                   'University' : ['AA', pd.NA, 'BB', None, 'CC','EE', pd.NA]})\n",
    "#df1 = df.dropna(axis = 0, how = \"all\")\n",
    "df1 = df.dropna(axis = 0, how = \"any\")\n",
    "df1.head(10)"
   ]
  },
  {
   "cell_type": "markdown",
   "id": "d5b1eaba",
   "metadata": {
    "hidden": true
   },
   "source": [
    "Cuenta de los valores no nulos en el data frame"
   ]
  },
  {
   "cell_type": "code",
   "execution_count": 30,
   "id": "feff6493",
   "metadata": {
    "hidden": true
   },
   "outputs": [
    {
     "data": {
      "text/plain": [
       "Name          5\n",
       "Age           5\n",
       "University    4\n",
       "dtype: int64"
      ]
     },
     "execution_count": 30,
     "metadata": {},
     "output_type": "execute_result"
    }
   ],
   "source": [
    "column_notnull = df.notnull().sum()\n",
    "column_notnull"
   ]
  },
  {
   "cell_type": "markdown",
   "id": "04fc1a92",
   "metadata": {
    "heading_collapsed": true
   },
   "source": [
    "#### <font color=#845600> Filtrar filas según una cadena de texto"
   ]
  },
  {
   "cell_type": "code",
   "execution_count": 12,
   "id": "31d5e450",
   "metadata": {
    "hidden": true
   },
   "outputs": [
    {
     "data": {
      "text/html": [
       "<div>\n",
       "<style scoped>\n",
       "    .dataframe tbody tr th:only-of-type {\n",
       "        vertical-align: middle;\n",
       "    }\n",
       "\n",
       "    .dataframe tbody tr th {\n",
       "        vertical-align: top;\n",
       "    }\n",
       "\n",
       "    .dataframe thead th {\n",
       "        text-align: right;\n",
       "    }\n",
       "</style>\n",
       "<table border=\"1\" class=\"dataframe\">\n",
       "  <thead>\n",
       "    <tr style=\"text-align: right;\">\n",
       "      <th></th>\n",
       "      <th>Name</th>\n",
       "      <th>Age</th>\n",
       "      <th>University</th>\n",
       "    </tr>\n",
       "  </thead>\n",
       "  <tbody>\n",
       "    <tr>\n",
       "      <th>0</th>\n",
       "      <td>Carlos</td>\n",
       "      <td>23.0</td>\n",
       "      <td>AA</td>\n",
       "    </tr>\n",
       "    <tr>\n",
       "      <th>3</th>\n",
       "      <td>Carmina</td>\n",
       "      <td>25.0</td>\n",
       "      <td>None</td>\n",
       "    </tr>\n",
       "  </tbody>\n",
       "</table>\n",
       "</div>"
      ],
      "text/plain": [
       "      Name   Age University\n",
       "0   Carlos  23.0         AA\n",
       "3  Carmina  25.0       None"
      ]
     },
     "execution_count": 12,
     "metadata": {},
     "output_type": "execute_result"
    }
   ],
   "source": [
    "df = pd.DataFrame({'Name'       : ['Carlos', 'Andrés', np.nan, 'Carmina', \"Fernand0\", \"Marcelo\", np.nan],\n",
    "                   'Age'        : [23, 24, 24, 25, None, 27, None],\n",
    "                   'University' : ['AA', pd.NA, 'BB', None, 'CC','EE', pd.NA]})\n",
    "\n",
    "# Filtrar filas de la columna 'Name' cuya primera letra es 'C'\n",
    "df1 = df[df['Name'].str[0] == 'C' ]\n",
    "df1.head()"
   ]
  },
  {
   "cell_type": "code",
   "execution_count": 15,
   "id": "ea3d5f8d",
   "metadata": {
    "hidden": true
   },
   "outputs": [
    {
     "data": {
      "text/html": [
       "<div>\n",
       "<style scoped>\n",
       "    .dataframe tbody tr th:only-of-type {\n",
       "        vertical-align: middle;\n",
       "    }\n",
       "\n",
       "    .dataframe tbody tr th {\n",
       "        vertical-align: top;\n",
       "    }\n",
       "\n",
       "    .dataframe thead th {\n",
       "        text-align: right;\n",
       "    }\n",
       "</style>\n",
       "<table border=\"1\" class=\"dataframe\">\n",
       "  <thead>\n",
       "    <tr style=\"text-align: right;\">\n",
       "      <th></th>\n",
       "      <th>Name</th>\n",
       "      <th>Age</th>\n",
       "      <th>University</th>\n",
       "    </tr>\n",
       "  </thead>\n",
       "  <tbody>\n",
       "    <tr>\n",
       "      <th>0</th>\n",
       "      <td>Carlos</td>\n",
       "      <td>23.0</td>\n",
       "      <td>AA</td>\n",
       "    </tr>\n",
       "    <tr>\n",
       "      <th>3</th>\n",
       "      <td>Carmina</td>\n",
       "      <td>25.0</td>\n",
       "      <td>None</td>\n",
       "    </tr>\n",
       "  </tbody>\n",
       "</table>\n",
       "</div>"
      ],
      "text/plain": [
       "      Name   Age University\n",
       "0   Carlos  23.0         AA\n",
       "3  Carmina  25.0       None"
      ]
     },
     "execution_count": 15,
     "metadata": {},
     "output_type": "execute_result"
    }
   ],
   "source": [
    "df = pd.DataFrame({'Name'       : ['Carlos', 'Andrés', np.nan, 'Carmina', \"Fernand0\", \"Marcelo\", np.nan],\n",
    "                   'Age'        : [23, 24, 24, 25, None, 27, None],\n",
    "                   'University' : ['AA', pd.NA, 'BB', None, 'CC','EE', pd.NA]})\n",
    "\n",
    "# Filtrar filas de la columna 'Name' cuyas dos primeras letras es 'Ca'\n",
    "df1 = df[df['Name'].str[0:2] == 'Ca' ]\n",
    "df1.head()"
   ]
  },
  {
   "cell_type": "code",
   "execution_count": 36,
   "id": "429cb146",
   "metadata": {
    "hidden": true,
    "scrolled": true
   },
   "outputs": [
    {
     "data": {
      "text/plain": [
       "0    Carlo\n",
       "1    André\n",
       "2      NaN\n",
       "3    Carmi\n",
       "4    Ferna\n",
       "5    Marce\n",
       "6      NaN\n",
       "Name: Name, dtype: object"
      ]
     },
     "execution_count": 36,
     "metadata": {},
     "output_type": "execute_result"
    }
   ],
   "source": [
    "df['Name'].str[0:5]"
   ]
  },
  {
   "cell_type": "code",
   "execution_count": 55,
   "id": "455be851",
   "metadata": {
    "hidden": true
   },
   "outputs": [
    {
     "data": {
      "text/html": [
       "<div>\n",
       "<style scoped>\n",
       "    .dataframe tbody tr th:only-of-type {\n",
       "        vertical-align: middle;\n",
       "    }\n",
       "\n",
       "    .dataframe tbody tr th {\n",
       "        vertical-align: top;\n",
       "    }\n",
       "\n",
       "    .dataframe thead th {\n",
       "        text-align: right;\n",
       "    }\n",
       "</style>\n",
       "<table border=\"1\" class=\"dataframe\">\n",
       "  <thead>\n",
       "    <tr style=\"text-align: right;\">\n",
       "      <th></th>\n",
       "      <th>Name</th>\n",
       "      <th>Age</th>\n",
       "      <th>University</th>\n",
       "    </tr>\n",
       "  </thead>\n",
       "  <tbody>\n",
       "    <tr>\n",
       "      <th>0</th>\n",
       "      <td>Carlos</td>\n",
       "      <td>23.0</td>\n",
       "      <td>AA</td>\n",
       "    </tr>\n",
       "    <tr>\n",
       "      <th>3</th>\n",
       "      <td>Carmina</td>\n",
       "      <td>25.0</td>\n",
       "      <td>None</td>\n",
       "    </tr>\n",
       "  </tbody>\n",
       "</table>\n",
       "</div>"
      ],
      "text/plain": [
       "      Name   Age University\n",
       "0   Carlos  23.0         AA\n",
       "3  Carmina  25.0       None"
      ]
     },
     "execution_count": 55,
     "metadata": {},
     "output_type": "execute_result"
    }
   ],
   "source": [
    "df = pd.DataFrame({'Name'       : ['Carlos', 'Andrés', np.nan, 'Carmina', \"Fernand0\", \"Marcelo\", np.nan],\n",
    "                   'Age'        : [23, 24, 24, 25, None, 27, None],\n",
    "                   'University' : ['AA', pd.NA, 'BB', None, 'CC','EE', pd.NA]})\n",
    "\n",
    "# Filtrar filas de la columna 'Name' cuyas dos primeras letras es 'Ca'\n",
    "df1 = df[df['Name'].str.startswith(\"Ca\") == True]\n",
    "df1.head()"
   ]
  },
  {
   "cell_type": "code",
   "execution_count": 57,
   "id": "4eaa3a59",
   "metadata": {
    "hidden": true
   },
   "outputs": [
    {
     "data": {
      "text/html": [
       "<div>\n",
       "<style scoped>\n",
       "    .dataframe tbody tr th:only-of-type {\n",
       "        vertical-align: middle;\n",
       "    }\n",
       "\n",
       "    .dataframe tbody tr th {\n",
       "        vertical-align: top;\n",
       "    }\n",
       "\n",
       "    .dataframe thead th {\n",
       "        text-align: right;\n",
       "    }\n",
       "</style>\n",
       "<table border=\"1\" class=\"dataframe\">\n",
       "  <thead>\n",
       "    <tr style=\"text-align: right;\">\n",
       "      <th></th>\n",
       "      <th>Name</th>\n",
       "      <th>Age</th>\n",
       "      <th>University</th>\n",
       "    </tr>\n",
       "  </thead>\n",
       "  <tbody>\n",
       "    <tr>\n",
       "      <th>0</th>\n",
       "      <td>Carlos</td>\n",
       "      <td>23.0</td>\n",
       "      <td>AA</td>\n",
       "    </tr>\n",
       "    <tr>\n",
       "      <th>5</th>\n",
       "      <td>Marcos</td>\n",
       "      <td>27.0</td>\n",
       "      <td>EE</td>\n",
       "    </tr>\n",
       "  </tbody>\n",
       "</table>\n",
       "</div>"
      ],
      "text/plain": [
       "     Name   Age University\n",
       "0  Carlos  23.0         AA\n",
       "5  Marcos  27.0         EE"
      ]
     },
     "execution_count": 57,
     "metadata": {},
     "output_type": "execute_result"
    }
   ],
   "source": [
    "df = pd.DataFrame({'Name'       : ['Carlos', 'Andrés', np.nan, 'Carmina', \"Fernand0\", \"Marcos\", np.nan],\n",
    "                   'Age'        : [23, 24, 24, 25, None, 27, None],\n",
    "                   'University' : ['AA', pd.NA, 'BB', None, 'CC','EE', pd.NA]})\n",
    "\n",
    "# Filtrar filas de la columna 'Name' cuyas dos últimas letras es 'os'\n",
    "df1 = df[df['Name'].str.endswith(\"os\") == True]\n",
    "df1.head()"
   ]
  },
  {
   "cell_type": "code",
   "execution_count": 51,
   "id": "0d7509eb",
   "metadata": {
    "hidden": true
   },
   "outputs": [
    {
     "data": {
      "text/plain": [
       "0     True\n",
       "1    False\n",
       "2      NaN\n",
       "3     True\n",
       "4    False\n",
       "5    False\n",
       "6      NaN\n",
       "Name: Name, dtype: object"
      ]
     },
     "execution_count": 51,
     "metadata": {},
     "output_type": "execute_result"
    }
   ],
   "source": [
    "x = df[\"Name\"]\n",
    "x.str.startswith(\"Ca\")"
   ]
  }
 ],
 "metadata": {
  "kernelspec": {
   "display_name": "Python 3 (ipykernel)",
   "language": "python",
   "name": "python3"
  },
  "language_info": {
   "codemirror_mode": {
    "name": "ipython",
    "version": 3
   },
   "file_extension": ".py",
   "mimetype": "text/x-python",
   "name": "python",
   "nbconvert_exporter": "python",
   "pygments_lexer": "ipython3",
   "version": "3.10.4"
  },
  "toc": {
   "base_numbering": 1,
   "nav_menu": {},
   "number_sections": false,
   "sideBar": true,
   "skip_h1_title": false,
   "title_cell": "Table of Contents",
   "title_sidebar": "Contents",
   "toc_cell": false,
   "toc_position": {
    "height": "calc(100% - 180px)",
    "left": "10px",
    "top": "150px",
    "width": "248.352px"
   },
   "toc_section_display": true,
   "toc_window_display": false
  },
  "varInspector": {
   "cols": {
    "lenName": 16,
    "lenType": 16,
    "lenVar": 40
   },
   "kernels_config": {
    "python": {
     "delete_cmd_postfix": "",
     "delete_cmd_prefix": "del ",
     "library": "var_list.py",
     "varRefreshCmd": "print(var_dic_list())"
    },
    "r": {
     "delete_cmd_postfix": ") ",
     "delete_cmd_prefix": "rm(",
     "library": "var_list.r",
     "varRefreshCmd": "cat(var_dic_list()) "
    }
   },
   "position": {
    "height": "164.83px",
    "left": "895.815px",
    "right": "20px",
    "top": "121px",
    "width": "327.003px"
   },
   "types_to_exclude": [
    "module",
    "function",
    "builtin_function_or_method",
    "instance",
    "_Feature"
   ],
   "window_display": false
  }
 },
 "nbformat": 4,
 "nbformat_minor": 5
}
