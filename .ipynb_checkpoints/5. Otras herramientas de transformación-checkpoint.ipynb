{
 "cells": [
  {
   "cell_type": "markdown",
   "id": "a2045290",
   "metadata": {},
   "source": [
    "# Transformación de datos"
   ]
  },
  {
   "cell_type": "markdown",
   "id": "d3b84ac4",
   "metadata": {},
   "source": [
    "### <font color=#845600> Otras herramientas de transformación"
   ]
  },
  {
   "cell_type": "markdown",
   "id": "39d779df",
   "metadata": {},
   "source": [
    "**Carga de librerías**"
   ]
  },
  {
   "cell_type": "code",
   "execution_count": 2,
   "id": "2d0c2402",
   "metadata": {},
   "outputs": [],
   "source": [
    "import pandas as pd\n",
    "import os"
   ]
  },
  {
   "cell_type": "markdown",
   "id": "83de323d",
   "metadata": {},
   "source": [
    "**Importado de datos**"
   ]
  },
  {
   "cell_type": "code",
   "execution_count": 4,
   "id": "0bb41d54",
   "metadata": {
    "scrolled": true
   },
   "outputs": [],
   "source": [
    "path = r'C:/Users/Carlos/OneDrive/Formación/Python/Transformación de datos'\n",
    "file = 'nycflights.csv'\n",
    "df = pd.read_csv(os.path.join(path,file), sep = ',')"
   ]
  },
  {
   "cell_type": "code",
   "execution_count": 5,
   "id": "50b4ba91",
   "metadata": {},
   "outputs": [
    {
     "data": {
      "text/html": [
       "<div>\n",
       "<style scoped>\n",
       "    .dataframe tbody tr th:only-of-type {\n",
       "        vertical-align: middle;\n",
       "    }\n",
       "\n",
       "    .dataframe tbody tr th {\n",
       "        vertical-align: top;\n",
       "    }\n",
       "\n",
       "    .dataframe thead th {\n",
       "        text-align: right;\n",
       "    }\n",
       "</style>\n",
       "<table border=\"1\" class=\"dataframe\">\n",
       "  <thead>\n",
       "    <tr style=\"text-align: right;\">\n",
       "      <th></th>\n",
       "      <th>year</th>\n",
       "      <th>month</th>\n",
       "      <th>day</th>\n",
       "      <th>dep_time</th>\n",
       "      <th>dep_delay</th>\n",
       "      <th>arr_time</th>\n",
       "      <th>arr_delay</th>\n",
       "      <th>carrier</th>\n",
       "      <th>tailnum</th>\n",
       "      <th>flight</th>\n",
       "      <th>origin</th>\n",
       "      <th>dest</th>\n",
       "      <th>air_time</th>\n",
       "      <th>distance</th>\n",
       "      <th>hour</th>\n",
       "      <th>minute</th>\n",
       "    </tr>\n",
       "  </thead>\n",
       "  <tbody>\n",
       "    <tr>\n",
       "      <th>0</th>\n",
       "      <td>2013</td>\n",
       "      <td>6</td>\n",
       "      <td>30</td>\n",
       "      <td>940</td>\n",
       "      <td>15</td>\n",
       "      <td>1216</td>\n",
       "      <td>-4</td>\n",
       "      <td>VX</td>\n",
       "      <td>N626VA</td>\n",
       "      <td>407</td>\n",
       "      <td>JFK</td>\n",
       "      <td>LAX</td>\n",
       "      <td>313</td>\n",
       "      <td>2475</td>\n",
       "      <td>9</td>\n",
       "      <td>40</td>\n",
       "    </tr>\n",
       "    <tr>\n",
       "      <th>1</th>\n",
       "      <td>2013</td>\n",
       "      <td>5</td>\n",
       "      <td>7</td>\n",
       "      <td>1657</td>\n",
       "      <td>-3</td>\n",
       "      <td>2104</td>\n",
       "      <td>10</td>\n",
       "      <td>DL</td>\n",
       "      <td>N3760C</td>\n",
       "      <td>329</td>\n",
       "      <td>JFK</td>\n",
       "      <td>SJU</td>\n",
       "      <td>216</td>\n",
       "      <td>1598</td>\n",
       "      <td>16</td>\n",
       "      <td>57</td>\n",
       "    </tr>\n",
       "    <tr>\n",
       "      <th>2</th>\n",
       "      <td>2013</td>\n",
       "      <td>12</td>\n",
       "      <td>8</td>\n",
       "      <td>859</td>\n",
       "      <td>-1</td>\n",
       "      <td>1238</td>\n",
       "      <td>11</td>\n",
       "      <td>DL</td>\n",
       "      <td>N712TW</td>\n",
       "      <td>422</td>\n",
       "      <td>JFK</td>\n",
       "      <td>LAX</td>\n",
       "      <td>376</td>\n",
       "      <td>2475</td>\n",
       "      <td>8</td>\n",
       "      <td>59</td>\n",
       "    </tr>\n",
       "    <tr>\n",
       "      <th>3</th>\n",
       "      <td>2013</td>\n",
       "      <td>5</td>\n",
       "      <td>14</td>\n",
       "      <td>1841</td>\n",
       "      <td>-4</td>\n",
       "      <td>2122</td>\n",
       "      <td>-34</td>\n",
       "      <td>DL</td>\n",
       "      <td>N914DL</td>\n",
       "      <td>2391</td>\n",
       "      <td>JFK</td>\n",
       "      <td>TPA</td>\n",
       "      <td>135</td>\n",
       "      <td>1005</td>\n",
       "      <td>18</td>\n",
       "      <td>41</td>\n",
       "    </tr>\n",
       "    <tr>\n",
       "      <th>4</th>\n",
       "      <td>2013</td>\n",
       "      <td>7</td>\n",
       "      <td>21</td>\n",
       "      <td>1102</td>\n",
       "      <td>-3</td>\n",
       "      <td>1230</td>\n",
       "      <td>-8</td>\n",
       "      <td>9E</td>\n",
       "      <td>N823AY</td>\n",
       "      <td>3652</td>\n",
       "      <td>LGA</td>\n",
       "      <td>ORF</td>\n",
       "      <td>50</td>\n",
       "      <td>296</td>\n",
       "      <td>11</td>\n",
       "      <td>2</td>\n",
       "    </tr>\n",
       "  </tbody>\n",
       "</table>\n",
       "</div>"
      ],
      "text/plain": [
       "   year  month  day  dep_time  dep_delay  arr_time  arr_delay carrier tailnum  \\\n",
       "0  2013      6   30       940         15      1216         -4      VX  N626VA   \n",
       "1  2013      5    7      1657         -3      2104         10      DL  N3760C   \n",
       "2  2013     12    8       859         -1      1238         11      DL  N712TW   \n",
       "3  2013      5   14      1841         -4      2122        -34      DL  N914DL   \n",
       "4  2013      7   21      1102         -3      1230         -8      9E  N823AY   \n",
       "\n",
       "   flight origin dest  air_time  distance  hour  minute  \n",
       "0     407    JFK  LAX       313      2475     9      40  \n",
       "1     329    JFK  SJU       216      1598    16      57  \n",
       "2     422    JFK  LAX       376      2475     8      59  \n",
       "3    2391    JFK  TPA       135      1005    18      41  \n",
       "4    3652    LGA  ORF        50       296    11       2  "
      ]
     },
     "execution_count": 5,
     "metadata": {},
     "output_type": "execute_result"
    }
   ],
   "source": [
    "df.head()"
   ]
  },
  {
   "cell_type": "markdown",
   "id": "67d760f9",
   "metadata": {},
   "source": [
    "#### <font color=#845600> Reemplazar datos dentro de una dataframe"
   ]
  },
  {
   "cell_type": "markdown",
   "id": "58861610",
   "metadata": {},
   "source": [
    "Reemplazo del texto JFK en la columna 'origin' por ABC"
   ]
  },
  {
   "cell_type": "code",
   "execution_count": 8,
   "id": "4307c7e6",
   "metadata": {},
   "outputs": [
    {
     "data": {
      "text/plain": [
       "['JFK', 'LGA', 'EWR']"
      ]
     },
     "execution_count": 8,
     "metadata": {},
     "output_type": "execute_result"
    }
   ],
   "source": [
    "# Verificación del estado inical\n",
    "df['origin'].unique().tolist()"
   ]
  },
  {
   "cell_type": "code",
   "execution_count": 9,
   "id": "20ab382c",
   "metadata": {},
   "outputs": [
    {
     "data": {
      "text/plain": [
       "['ABC', 'LGA', 'EWR']"
      ]
     },
     "execution_count": 9,
     "metadata": {},
     "output_type": "execute_result"
    }
   ],
   "source": [
    "df1 = df.replace({'origin':{'JFK':'ABC'}})\n",
    "df1['origin'].unique().tolist()"
   ]
  },
  {
   "cell_type": "markdown",
   "id": "ad9c6dad",
   "metadata": {},
   "source": [
    "Reemeplazo de varios valores en diferentes columnas"
   ]
  },
  {
   "cell_type": "code",
   "execution_count": 27,
   "id": "b9bcdeba",
   "metadata": {},
   "outputs": [
    {
     "name": "stdout",
     "output_type": "stream",
     "text": [
      " origin:  ['JFK', 'LGA', 'EWR'] \n",
      " carrier: ['VX', 'DL', '9E', 'AA', 'WN', 'B6', 'EV', 'FL', 'UA', 'US', 'MQ', 'F9', 'YV', 'AS', 'HA', 'OO'] \n",
      " month:   [6, 5, 12, 7, 1, 8, 9, 4, 11, 3, 10, 2]\n"
     ]
    }
   ],
   "source": [
    "# Verificación del estado inical\n",
    "x1 = df['origin'].unique().tolist()\n",
    "x2 = df['carrier'].unique().tolist()\n",
    "x3 = df['month'].unique().tolist()\n",
    "print(f' origin:  {x1} \\n carrier: {x2} \\n month:   {x3}')"
   ]
  },
  {
   "cell_type": "code",
   "execution_count": 29,
   "id": "7edde3f9",
   "metadata": {},
   "outputs": [
    {
     "name": "stdout",
     "output_type": "stream",
     "text": [
      " origin:  ['ABC', 'DEF', 'EWR'] \n",
      " carrier: ['New value', 1, 'Nine', 'AA', 'WN', 'B6', 'EV', 'FL', 'UA', 'US', 'MQ', 'F9', 'YV', 'AS', 'HA', 'OO'] \n",
      " month:   [-6, 5, -12, 7, 1, 8, 9, 4, 11, 3, 10, 2]\n"
     ]
    }
   ],
   "source": [
    "# Reemplazo\n",
    "detail = {\"origin\"   : {'JFK': 'ABC', 'LGA': 'DEF'},\n",
    "          \"carrier\"  : {'VX': 'New value', 'DL':1, '9E':'Nine'},\n",
    "          \"month\"    : {6: -6, 12: -12}}\n",
    "\n",
    "df1 = df.replace(detail)\n",
    "x1 = df1['origin'].unique().tolist()\n",
    "x2 = df1['carrier'].unique().tolist()\n",
    "x3 = df1['month'].unique().tolist()\n",
    "print(f' origin:  {x1} \\n carrier: {x2} \\n month:   {x3}')"
   ]
  },
  {
   "cell_type": "code",
   "execution_count": null,
   "id": "5277effa",
   "metadata": {},
   "outputs": [],
   "source": []
  },
  {
   "cell_type": "code",
   "execution_count": null,
   "id": "fa8afe93",
   "metadata": {},
   "outputs": [],
   "source": []
  }
 ],
 "metadata": {
  "kernelspec": {
   "display_name": "Python 3 (ipykernel)",
   "language": "python",
   "name": "python3"
  },
  "language_info": {
   "codemirror_mode": {
    "name": "ipython",
    "version": 3
   },
   "file_extension": ".py",
   "mimetype": "text/x-python",
   "name": "python",
   "nbconvert_exporter": "python",
   "pygments_lexer": "ipython3",
   "version": "3.9.7"
  },
  "toc": {
   "base_numbering": 1,
   "nav_menu": {},
   "number_sections": false,
   "sideBar": true,
   "skip_h1_title": false,
   "title_cell": "Table of Contents",
   "title_sidebar": "Contents",
   "toc_cell": false,
   "toc_position": {},
   "toc_section_display": true,
   "toc_window_display": false
  },
  "varInspector": {
   "cols": {
    "lenName": 16,
    "lenType": 16,
    "lenVar": 40
   },
   "kernels_config": {
    "python": {
     "delete_cmd_postfix": "",
     "delete_cmd_prefix": "del ",
     "library": "var_list.py",
     "varRefreshCmd": "print(var_dic_list())"
    },
    "r": {
     "delete_cmd_postfix": ") ",
     "delete_cmd_prefix": "rm(",
     "library": "var_list.r",
     "varRefreshCmd": "cat(var_dic_list()) "
    }
   },
   "types_to_exclude": [
    "module",
    "function",
    "builtin_function_or_method",
    "instance",
    "_Feature"
   ],
   "window_display": false
  }
 },
 "nbformat": 4,
 "nbformat_minor": 5
}
