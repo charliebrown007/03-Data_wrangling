{
 "cells": [
  {
   "cell_type": "raw",
   "id": "85dc2a3b",
   "metadata": {},
   "source": [
    "---\n",
    "title: \"Data Wrangling\"\n",
    "subtitle: \"Transformación de datos\"\n",
    "author: \"Carlos Andrés Pérez Guzmán\"\n",
    "format:\n",
    "  pdf:\n",
    "    mainfont: Latin Modern Roman\n",
    "    sansfont: Latin Modern Roman\n",
    "---"
   ]
  },
  {
   "cell_type": "markdown",
   "id": "79c665a7",
   "metadata": {},
   "source": [
    "# <font color=#005656>Capítulo 1: Filtrado y selección"
   ]
  },
  {
   "cell_type": "markdown",
   "id": "74c3a926",
   "metadata": {},
   "source": [
    "### <font color=#005656>Carga de librarías"
   ]
  },
  {
   "cell_type": "code",
   "execution_count": null,
   "id": "26af05e3",
   "metadata": {},
   "outputs": [],
   "source": [
    "import pandas as pd"
   ]
  },
  {
   "cell_type": "markdown",
   "id": "b131d024",
   "metadata": {},
   "source": [
    "### <font color=#005656>Carga de datos"
   ]
  },
  {
   "cell_type": "code",
   "execution_count": null,
   "id": "14e9894d",
   "metadata": {},
   "outputs": [],
   "source": [
    "df = pd.read_csv(\"nycflights.csv\")\n",
    "#df.info()\n",
    "df.head()"
   ]
  },
  {
   "cell_type": "markdown",
   "id": "d8cf6bce",
   "metadata": {},
   "source": [
    "#### <font color=#845600>Filtro del valor de una columna"
   ]
  },
  {
   "cell_type": "code",
   "execution_count": null,
   "id": "8f24483f",
   "metadata": {},
   "outputs": [],
   "source": [
    "df1 = df[df[\"origin\"]==\"LGA\"]\n",
    "df1.head()"
   ]
  },
  {
   "cell_type": "code",
   "execution_count": null,
   "id": "ed880235",
   "metadata": {},
   "outputs": [],
   "source": [
    "df1 = df[df[\"origin\"]!=\"LGA\"]\n",
    "df1.head()"
   ]
  },
  {
   "cell_type": "markdown",
   "id": "13655b5a",
   "metadata": {},
   "source": [
    "El caracter \"&\" equivale al conector lógico \"**AND**\""
   ]
  },
  {
   "cell_type": "code",
   "execution_count": null,
   "id": "a27763a5",
   "metadata": {},
   "outputs": [],
   "source": [
    "df1 = df[(df[\"origin\"]==\"LGA\") & (df[\"year\"]==2013) & (df[\"air_time\"]<=50)]\n",
    "df1.head()"
   ]
  },
  {
   "cell_type": "markdown",
   "id": "ea938a28",
   "metadata": {},
   "source": [
    "El carater \"|\" equivale al conector lógico \"**OR**\""
   ]
  },
  {
   "cell_type": "code",
   "execution_count": null,
   "id": "6e05362d",
   "metadata": {},
   "outputs": [],
   "source": [
    "df1 = df[(df[\"month\"]==5) | (df[\"month\"]==12)]\n",
    "df1.head()"
   ]
  },
  {
   "cell_type": "markdown",
   "id": "1fabed40",
   "metadata": {},
   "source": [
    "Es posible usar otras variables para filtrar datos"
   ]
  },
  {
   "cell_type": "code",
   "execution_count": null,
   "id": "a5abd977",
   "metadata": {},
   "outputs": [],
   "source": [
    "month_var = 5\n",
    "df1 = df[(df[\"month\"] == month_var) & (df[\"air_time\"]>50)]\n",
    "df1.head()"
   ]
  },
  {
   "cell_type": "markdown",
   "id": "c5dce919",
   "metadata": {},
   "source": [
    "Se puede negar cualquier criterio de filtro con \"**~**\""
   ]
  },
  {
   "cell_type": "code",
   "execution_count": null,
   "id": "851fba06",
   "metadata": {
    "scrolled": true
   },
   "outputs": [],
   "source": [
    "month_var = 5\n",
    "df1 = df[~((df[\"month\"] == month_var) & (df[\"air_time\"]>50))]\n",
    "df1.head()"
   ]
  },
  {
   "cell_type": "markdown",
   "id": "c2fac676",
   "metadata": {},
   "source": [
    "#### <font color=#845600>Filtro a través del método loc"
   ]
  },
  {
   "cell_type": "code",
   "execution_count": null,
   "id": "10dd8648",
   "metadata": {},
   "outputs": [],
   "source": [
    "df1 = df.loc[df[\"origin\"]==\"LGA\"]\n",
    "df1.head()"
   ]
  },
  {
   "cell_type": "code",
   "execution_count": null,
   "id": "2bc53ce9",
   "metadata": {},
   "outputs": [],
   "source": [
    "df1 = df.loc[df[\"origin\"]!=\"LGA\"]\n",
    "df1.head()"
   ]
  },
  {
   "cell_type": "markdown",
   "id": "9090842f",
   "metadata": {},
   "source": [
    "El caracter \"&\" equivale al conector lógico \"**AND**\""
   ]
  },
  {
   "cell_type": "code",
   "execution_count": null,
   "id": "592a572f",
   "metadata": {},
   "outputs": [],
   "source": [
    "# & equivale a \"AND\"\n",
    "\n",
    "df1 = df.loc[(df[\"origin\"]==\"LGA\") & (df[\"year\"]==2013) & (df[\"air_time\"]<=50)]\n",
    "df1.head()"
   ]
  },
  {
   "cell_type": "markdown",
   "id": "c6ff2a95",
   "metadata": {},
   "source": [
    "El carater \"|\" equivale al conector lógico \"**OR**\""
   ]
  },
  {
   "cell_type": "code",
   "execution_count": null,
   "id": "20967ee4",
   "metadata": {},
   "outputs": [],
   "source": [
    "df1 = df.loc[(df[\"month\"]==5) | (df[\"month\"]==12)]\n",
    "df1.head()"
   ]
  },
  {
   "cell_type": "markdown",
   "id": "f7989edd",
   "metadata": {},
   "source": [
    "Es posible usar otras variables para filtrar datos"
   ]
  },
  {
   "cell_type": "code",
   "execution_count": null,
   "id": "620933a9",
   "metadata": {},
   "outputs": [],
   "source": [
    "month_var = 5\n",
    "df1 = df.loc[(df[\"month\"] == month_var) & (df[\"air_time\"]>50)]\n",
    "df1.head()"
   ]
  },
  {
   "cell_type": "markdown",
   "id": "4204745a",
   "metadata": {},
   "source": [
    "Se puede negar cualquier criterio de filtro con \"**~**\""
   ]
  },
  {
   "cell_type": "code",
   "execution_count": null,
   "id": "ad4f6971",
   "metadata": {},
   "outputs": [],
   "source": [
    "month_var = 5\n",
    "df1 = df.loc[~((df[\"month\"] == month_var) & (df[\"air_time\"]>50))]\n",
    "df1.head()"
   ]
  },
  {
   "cell_type": "markdown",
   "id": "ff270816",
   "metadata": {},
   "source": [
    "#### <font color=#845600> Filtro por posición de filas y columnas"
   ]
  },
  {
   "cell_type": "code",
   "execution_count": null,
   "id": "b610db50",
   "metadata": {},
   "outputs": [],
   "source": [
    "df.iloc[:4] #First 4 rows, all columns\n",
    "df.iloc[1:5,] #Second to fifth row, all columns\n",
    "df.iloc[5,0] #Sixth row and first column\n",
    "df.iloc[1:5,0] #Second to Fifth row, first column\n",
    "df.iloc[1:5,:5] #Second to Fifth row, first 5 columns\n",
    "df.iloc[2:7,1:3] #Third to Seventh row, 2nd and 3rd column"
   ]
  },
  {
   "cell_type": "code",
   "execution_count": 19,
   "id": "8be1e89e",
   "metadata": {},
   "outputs": [
    {
     "data": {
      "text/html": [
       "<div>\n",
       "<style scoped>\n",
       "    .dataframe tbody tr th:only-of-type {\n",
       "        vertical-align: middle;\n",
       "    }\n",
       "\n",
       "    .dataframe tbody tr th {\n",
       "        vertical-align: top;\n",
       "    }\n",
       "\n",
       "    .dataframe thead th {\n",
       "        text-align: right;\n",
       "    }\n",
       "</style>\n",
       "<table border=\"1\" class=\"dataframe\">\n",
       "  <thead>\n",
       "    <tr style=\"text-align: right;\">\n",
       "      <th></th>\n",
       "      <th>year</th>\n",
       "      <th>month</th>\n",
       "      <th>day</th>\n",
       "      <th>dep_time</th>\n",
       "      <th>dep_delay</th>\n",
       "      <th>arr_time</th>\n",
       "      <th>arr_delay</th>\n",
       "      <th>carrier</th>\n",
       "      <th>tailnum</th>\n",
       "      <th>flight</th>\n",
       "      <th>origin</th>\n",
       "      <th>dest</th>\n",
       "      <th>air_time</th>\n",
       "      <th>distance</th>\n",
       "      <th>hour</th>\n",
       "      <th>minute</th>\n",
       "    </tr>\n",
       "  </thead>\n",
       "  <tbody>\n",
       "    <tr>\n",
       "      <th>0</th>\n",
       "      <td>2013</td>\n",
       "      <td>6</td>\n",
       "      <td>30</td>\n",
       "      <td>940</td>\n",
       "      <td>15</td>\n",
       "      <td>1216</td>\n",
       "      <td>-4</td>\n",
       "      <td>VX</td>\n",
       "      <td>N626VA</td>\n",
       "      <td>407</td>\n",
       "      <td>JFK</td>\n",
       "      <td>LAX</td>\n",
       "      <td>313</td>\n",
       "      <td>2475</td>\n",
       "      <td>9</td>\n",
       "      <td>40</td>\n",
       "    </tr>\n",
       "    <tr>\n",
       "      <th>1</th>\n",
       "      <td>2013</td>\n",
       "      <td>5</td>\n",
       "      <td>7</td>\n",
       "      <td>1657</td>\n",
       "      <td>-3</td>\n",
       "      <td>2104</td>\n",
       "      <td>10</td>\n",
       "      <td>DL</td>\n",
       "      <td>N3760C</td>\n",
       "      <td>329</td>\n",
       "      <td>JFK</td>\n",
       "      <td>SJU</td>\n",
       "      <td>216</td>\n",
       "      <td>1598</td>\n",
       "      <td>16</td>\n",
       "      <td>57</td>\n",
       "    </tr>\n",
       "    <tr>\n",
       "      <th>2</th>\n",
       "      <td>2013</td>\n",
       "      <td>12</td>\n",
       "      <td>8</td>\n",
       "      <td>859</td>\n",
       "      <td>-1</td>\n",
       "      <td>1238</td>\n",
       "      <td>11</td>\n",
       "      <td>DL</td>\n",
       "      <td>N712TW</td>\n",
       "      <td>422</td>\n",
       "      <td>JFK</td>\n",
       "      <td>LAX</td>\n",
       "      <td>376</td>\n",
       "      <td>2475</td>\n",
       "      <td>8</td>\n",
       "      <td>59</td>\n",
       "    </tr>\n",
       "    <tr>\n",
       "      <th>3</th>\n",
       "      <td>2013</td>\n",
       "      <td>5</td>\n",
       "      <td>14</td>\n",
       "      <td>1841</td>\n",
       "      <td>-4</td>\n",
       "      <td>2122</td>\n",
       "      <td>-34</td>\n",
       "      <td>DL</td>\n",
       "      <td>N914DL</td>\n",
       "      <td>2391</td>\n",
       "      <td>JFK</td>\n",
       "      <td>TPA</td>\n",
       "      <td>135</td>\n",
       "      <td>1005</td>\n",
       "      <td>18</td>\n",
       "      <td>41</td>\n",
       "    </tr>\n",
       "    <tr>\n",
       "      <th>4</th>\n",
       "      <td>2013</td>\n",
       "      <td>7</td>\n",
       "      <td>21</td>\n",
       "      <td>1102</td>\n",
       "      <td>-3</td>\n",
       "      <td>1230</td>\n",
       "      <td>-8</td>\n",
       "      <td>9E</td>\n",
       "      <td>N823AY</td>\n",
       "      <td>3652</td>\n",
       "      <td>LGA</td>\n",
       "      <td>ORF</td>\n",
       "      <td>50</td>\n",
       "      <td>296</td>\n",
       "      <td>11</td>\n",
       "      <td>2</td>\n",
       "    </tr>\n",
       "  </tbody>\n",
       "</table>\n",
       "</div>"
      ],
      "text/plain": [
       "   year  month  day  dep_time  dep_delay  arr_time  arr_delay carrier tailnum  \\\n",
       "0  2013      6   30       940         15      1216         -4      VX  N626VA   \n",
       "1  2013      5    7      1657         -3      2104         10      DL  N3760C   \n",
       "2  2013     12    8       859         -1      1238         11      DL  N712TW   \n",
       "3  2013      5   14      1841         -4      2122        -34      DL  N914DL   \n",
       "4  2013      7   21      1102         -3      1230         -8      9E  N823AY   \n",
       "\n",
       "   flight origin dest  air_time  distance  hour  minute  \n",
       "0     407    JFK  LAX       313      2475     9      40  \n",
       "1     329    JFK  SJU       216      1598    16      57  \n",
       "2     422    JFK  LAX       376      2475     8      59  \n",
       "3    2391    JFK  TPA       135      1005    18      41  \n",
       "4    3652    LGA  ORF        50       296    11       2  "
      ]
     },
     "execution_count": 19,
     "metadata": {},
     "output_type": "execute_result"
    }
   ],
   "source": [
    "df.head()"
   ]
  },
  {
   "cell_type": "code",
   "execution_count": 20,
   "id": "e7f97862",
   "metadata": {},
   "outputs": [
    {
     "data": {
      "text/html": [
       "<div>\n",
       "<style scoped>\n",
       "    .dataframe tbody tr th:only-of-type {\n",
       "        vertical-align: middle;\n",
       "    }\n",
       "\n",
       "    .dataframe tbody tr th {\n",
       "        vertical-align: top;\n",
       "    }\n",
       "\n",
       "    .dataframe thead th {\n",
       "        text-align: right;\n",
       "    }\n",
       "</style>\n",
       "<table border=\"1\" class=\"dataframe\">\n",
       "  <thead>\n",
       "    <tr style=\"text-align: right;\">\n",
       "      <th></th>\n",
       "      <th>year</th>\n",
       "      <th>month</th>\n",
       "      <th>day</th>\n",
       "      <th>dep_time</th>\n",
       "      <th>dep_delay</th>\n",
       "      <th>arr_time</th>\n",
       "      <th>arr_delay</th>\n",
       "      <th>carrier</th>\n",
       "      <th>tailnum</th>\n",
       "      <th>flight</th>\n",
       "      <th>origin</th>\n",
       "      <th>dest</th>\n",
       "      <th>air_time</th>\n",
       "      <th>distance</th>\n",
       "      <th>hour</th>\n",
       "      <th>minute</th>\n",
       "    </tr>\n",
       "  </thead>\n",
       "  <tbody>\n",
       "    <tr>\n",
       "      <th>1</th>\n",
       "      <td>2013</td>\n",
       "      <td>5</td>\n",
       "      <td>7</td>\n",
       "      <td>1657</td>\n",
       "      <td>-3</td>\n",
       "      <td>2104</td>\n",
       "      <td>10</td>\n",
       "      <td>DL</td>\n",
       "      <td>N3760C</td>\n",
       "      <td>329</td>\n",
       "      <td>JFK</td>\n",
       "      <td>SJU</td>\n",
       "      <td>216</td>\n",
       "      <td>1598</td>\n",
       "      <td>16</td>\n",
       "      <td>57</td>\n",
       "    </tr>\n",
       "    <tr>\n",
       "      <th>2</th>\n",
       "      <td>2013</td>\n",
       "      <td>12</td>\n",
       "      <td>8</td>\n",
       "      <td>859</td>\n",
       "      <td>-1</td>\n",
       "      <td>1238</td>\n",
       "      <td>11</td>\n",
       "      <td>DL</td>\n",
       "      <td>N712TW</td>\n",
       "      <td>422</td>\n",
       "      <td>JFK</td>\n",
       "      <td>LAX</td>\n",
       "      <td>376</td>\n",
       "      <td>2475</td>\n",
       "      <td>8</td>\n",
       "      <td>59</td>\n",
       "    </tr>\n",
       "    <tr>\n",
       "      <th>3</th>\n",
       "      <td>2013</td>\n",
       "      <td>5</td>\n",
       "      <td>14</td>\n",
       "      <td>1841</td>\n",
       "      <td>-4</td>\n",
       "      <td>2122</td>\n",
       "      <td>-34</td>\n",
       "      <td>DL</td>\n",
       "      <td>N914DL</td>\n",
       "      <td>2391</td>\n",
       "      <td>JFK</td>\n",
       "      <td>TPA</td>\n",
       "      <td>135</td>\n",
       "      <td>1005</td>\n",
       "      <td>18</td>\n",
       "      <td>41</td>\n",
       "    </tr>\n",
       "    <tr>\n",
       "      <th>4</th>\n",
       "      <td>2013</td>\n",
       "      <td>7</td>\n",
       "      <td>21</td>\n",
       "      <td>1102</td>\n",
       "      <td>-3</td>\n",
       "      <td>1230</td>\n",
       "      <td>-8</td>\n",
       "      <td>9E</td>\n",
       "      <td>N823AY</td>\n",
       "      <td>3652</td>\n",
       "      <td>LGA</td>\n",
       "      <td>ORF</td>\n",
       "      <td>50</td>\n",
       "      <td>296</td>\n",
       "      <td>11</td>\n",
       "      <td>2</td>\n",
       "    </tr>\n",
       "  </tbody>\n",
       "</table>\n",
       "</div>"
      ],
      "text/plain": [
       "   year  month  day  dep_time  dep_delay  arr_time  arr_delay carrier tailnum  \\\n",
       "1  2013      5    7      1657         -3      2104         10      DL  N3760C   \n",
       "2  2013     12    8       859         -1      1238         11      DL  N712TW   \n",
       "3  2013      5   14      1841         -4      2122        -34      DL  N914DL   \n",
       "4  2013      7   21      1102         -3      1230         -8      9E  N823AY   \n",
       "\n",
       "   flight origin dest  air_time  distance  hour  minute  \n",
       "1     329    JFK  SJU       216      1598    16      57  \n",
       "2     422    JFK  LAX       376      2475     8      59  \n",
       "3    2391    JFK  TPA       135      1005    18      41  \n",
       "4    3652    LGA  ORF        50       296    11       2  "
      ]
     },
     "execution_count": 20,
     "metadata": {},
     "output_type": "execute_result"
    }
   ],
   "source": [
    "df.iloc[1:5,]"
   ]
  },
  {
   "cell_type": "markdown",
   "id": "42826b6e",
   "metadata": {},
   "source": [
    "#### <font color=#845600> Filtro por posición de filas y nombre de columnas"
   ]
  },
  {
   "cell_type": "code",
   "execution_count": null,
   "id": "f9d06e3a",
   "metadata": {},
   "outputs": [],
   "source": [
    "# Selección de 5 filas y columnas con nombre \"origin\" y \"distance\"\n",
    "df1 = df.loc[df.index[10:16],[\"origin\",\"distance\"]]\n",
    "df1.head()"
   ]
  },
  {
   "cell_type": "code",
   "execution_count": null,
   "id": "fb1ba956",
   "metadata": {},
   "outputs": [],
   "source": [
    "# Filtro múltiple\n",
    "df1 = df.loc[(df[\"origin\"]==\"LGA\") & (df[\"year\"]==2013) & (df[\"air_time\"]<=50),\n",
    "             [\"origin\",\"distance\",\"year\"]]\n",
    "df1.head()"
   ]
  },
  {
   "cell_type": "markdown",
   "id": "583460b2",
   "metadata": {},
   "source": [
    "#### <font color=#845600> Filtro para seleccionar múltiples valores"
   ]
  },
  {
   "cell_type": "code",
   "execution_count": 13,
   "id": "9b497e86",
   "metadata": {},
   "outputs": [
    {
     "data": {
      "text/html": [
       "<div>\n",
       "<style scoped>\n",
       "    .dataframe tbody tr th:only-of-type {\n",
       "        vertical-align: middle;\n",
       "    }\n",
       "\n",
       "    .dataframe tbody tr th {\n",
       "        vertical-align: top;\n",
       "    }\n",
       "\n",
       "    .dataframe thead th {\n",
       "        text-align: right;\n",
       "    }\n",
       "</style>\n",
       "<table border=\"1\" class=\"dataframe\">\n",
       "  <thead>\n",
       "    <tr style=\"text-align: right;\">\n",
       "      <th></th>\n",
       "      <th>year</th>\n",
       "      <th>month</th>\n",
       "      <th>day</th>\n",
       "      <th>dep_time</th>\n",
       "      <th>dep_delay</th>\n",
       "      <th>arr_time</th>\n",
       "      <th>arr_delay</th>\n",
       "      <th>carrier</th>\n",
       "      <th>tailnum</th>\n",
       "      <th>flight</th>\n",
       "      <th>origin</th>\n",
       "      <th>dest</th>\n",
       "      <th>air_time</th>\n",
       "      <th>distance</th>\n",
       "      <th>hour</th>\n",
       "      <th>minute</th>\n",
       "    </tr>\n",
       "  </thead>\n",
       "  <tbody>\n",
       "    <tr>\n",
       "      <th>0</th>\n",
       "      <td>2013</td>\n",
       "      <td>6</td>\n",
       "      <td>30</td>\n",
       "      <td>940</td>\n",
       "      <td>15</td>\n",
       "      <td>1216</td>\n",
       "      <td>-4</td>\n",
       "      <td>VX</td>\n",
       "      <td>N626VA</td>\n",
       "      <td>407</td>\n",
       "      <td>JFK</td>\n",
       "      <td>LAX</td>\n",
       "      <td>313</td>\n",
       "      <td>2475</td>\n",
       "      <td>9</td>\n",
       "      <td>40</td>\n",
       "    </tr>\n",
       "    <tr>\n",
       "      <th>1</th>\n",
       "      <td>2013</td>\n",
       "      <td>5</td>\n",
       "      <td>7</td>\n",
       "      <td>1657</td>\n",
       "      <td>-3</td>\n",
       "      <td>2104</td>\n",
       "      <td>10</td>\n",
       "      <td>DL</td>\n",
       "      <td>N3760C</td>\n",
       "      <td>329</td>\n",
       "      <td>JFK</td>\n",
       "      <td>SJU</td>\n",
       "      <td>216</td>\n",
       "      <td>1598</td>\n",
       "      <td>16</td>\n",
       "      <td>57</td>\n",
       "    </tr>\n",
       "    <tr>\n",
       "      <th>2</th>\n",
       "      <td>2013</td>\n",
       "      <td>12</td>\n",
       "      <td>8</td>\n",
       "      <td>859</td>\n",
       "      <td>-1</td>\n",
       "      <td>1238</td>\n",
       "      <td>11</td>\n",
       "      <td>DL</td>\n",
       "      <td>N712TW</td>\n",
       "      <td>422</td>\n",
       "      <td>JFK</td>\n",
       "      <td>LAX</td>\n",
       "      <td>376</td>\n",
       "      <td>2475</td>\n",
       "      <td>8</td>\n",
       "      <td>59</td>\n",
       "    </tr>\n",
       "    <tr>\n",
       "      <th>3</th>\n",
       "      <td>2013</td>\n",
       "      <td>5</td>\n",
       "      <td>14</td>\n",
       "      <td>1841</td>\n",
       "      <td>-4</td>\n",
       "      <td>2122</td>\n",
       "      <td>-34</td>\n",
       "      <td>DL</td>\n",
       "      <td>N914DL</td>\n",
       "      <td>2391</td>\n",
       "      <td>JFK</td>\n",
       "      <td>TPA</td>\n",
       "      <td>135</td>\n",
       "      <td>1005</td>\n",
       "      <td>18</td>\n",
       "      <td>41</td>\n",
       "    </tr>\n",
       "    <tr>\n",
       "      <th>4</th>\n",
       "      <td>2013</td>\n",
       "      <td>7</td>\n",
       "      <td>21</td>\n",
       "      <td>1102</td>\n",
       "      <td>-3</td>\n",
       "      <td>1230</td>\n",
       "      <td>-8</td>\n",
       "      <td>9E</td>\n",
       "      <td>N823AY</td>\n",
       "      <td>3652</td>\n",
       "      <td>LGA</td>\n",
       "      <td>ORF</td>\n",
       "      <td>50</td>\n",
       "      <td>296</td>\n",
       "      <td>11</td>\n",
       "      <td>2</td>\n",
       "    </tr>\n",
       "  </tbody>\n",
       "</table>\n",
       "</div>"
      ],
      "text/plain": [
       "   year  month  day  dep_time  dep_delay  arr_time  arr_delay carrier tailnum  \\\n",
       "0  2013      6   30       940         15      1216         -4      VX  N626VA   \n",
       "1  2013      5    7      1657         -3      2104         10      DL  N3760C   \n",
       "2  2013     12    8       859         -1      1238         11      DL  N712TW   \n",
       "3  2013      5   14      1841         -4      2122        -34      DL  N914DL   \n",
       "4  2013      7   21      1102         -3      1230         -8      9E  N823AY   \n",
       "\n",
       "   flight origin dest  air_time  distance  hour  minute  \n",
       "0     407    JFK  LAX       313      2475     9      40  \n",
       "1     329    JFK  SJU       216      1598    16      57  \n",
       "2     422    JFK  LAX       376      2475     8      59  \n",
       "3    2391    JFK  TPA       135      1005    18      41  \n",
       "4    3652    LGA  ORF        50       296    11       2  "
      ]
     },
     "execution_count": 13,
     "metadata": {},
     "output_type": "execute_result"
    }
   ],
   "source": [
    "df1 = df[df[\"origin\"].isin([\"JFK\", \"LGA\"])]\n",
    "df1.head()"
   ]
  },
  {
   "cell_type": "markdown",
   "id": "c6052384",
   "metadata": {},
   "source": [
    "Los valores que se deben conservar pueden ser almacenados en una lista"
   ]
  },
  {
   "cell_type": "code",
   "execution_count": null,
   "id": "eefdc8ca",
   "metadata": {},
   "outputs": [],
   "source": [
    "variables = [\"JFK\",\"LGA\"]\n",
    "df1 = df[df[\"origin\"].isin(variables)]\n",
    "df1.head()"
   ]
  },
  {
   "cell_type": "markdown",
   "id": "760f75b7",
   "metadata": {},
   "source": [
    "Los valores que **no** se deben conservar pueden ser almacenados en una lista"
   ]
  },
  {
   "cell_type": "code",
   "execution_count": null,
   "id": "35e72be7",
   "metadata": {},
   "outputs": [],
   "source": [
    "remove_var = [\"JFK\",\"LGA\"]\n",
    "df1 = df[~df[\"origin\"].isin(remove_var)]\n",
    "df1.head()"
   ]
  },
  {
   "cell_type": "markdown",
   "id": "9b9dba09",
   "metadata": {},
   "source": [
    "#### <font color=#845600> Filtar columnas"
   ]
  },
  {
   "cell_type": "code",
   "execution_count": null,
   "id": "75fe05fe",
   "metadata": {},
   "outputs": [],
   "source": [
    "# Selección de columna: 'flight' hasta 'dest' para todas las filas\n",
    "df1 = df.loc[:,\"flight\":\"dest\"]\n",
    "df1.head()"
   ]
  },
  {
   "cell_type": "code",
   "execution_count": null,
   "id": "b8a56b54",
   "metadata": {},
   "outputs": [],
   "source": [
    "# Selección de columna: 'flight' y 'dest'\n",
    "df1 = df.loc[:,[\"flight\",\"dest\"]]\n",
    "df1.head()"
   ]
  },
  {
   "cell_type": "code",
   "execution_count": null,
   "id": "005e9c07",
   "metadata": {
    "scrolled": true
   },
   "outputs": [],
   "source": [
    "# Selección de columna: 'flight' y 'dest'\n",
    "df1 = df[[\"flight\",\"dest\"]]\n",
    "df1.head()"
   ]
  },
  {
   "cell_type": "code",
   "execution_count": null,
   "id": "ab5ac699",
   "metadata": {},
   "outputs": [],
   "source": [
    "# Selección de columnas diferentes de 'flight', 'dest' y 'year'\n",
    "# También es posible eliminar filas si fuese necesario\n",
    "df1 =df.drop(['flight','dest','year'], axis = 1)\n",
    "df1.head()"
   ]
  },
  {
   "cell_type": "markdown",
   "id": "7e72fa7a",
   "metadata": {},
   "source": [
    "#### <font color=#845600> Filtar valores duplicados"
   ]
  },
  {
   "cell_type": "markdown",
   "id": "ce13a53b",
   "metadata": {},
   "source": [
    "Devuelve aquellos elementos que tienen valores duplicados. Así, la tabla resultante contendrá valores únicos según los parámetros de la función."
   ]
  },
  {
   "cell_type": "code",
   "execution_count": null,
   "id": "8c0d7c53",
   "metadata": {},
   "outputs": [],
   "source": [
    "# keep: If 'first', it considers first value as unique and rest of the same values as duplicate.\n",
    "# keep: If 'last', it considers last value as unique and rest of the same values as duplicate.\n",
    "# keep: If False, it consider all of the same values as duplicates\n",
    "# inplace: Boolean values, removes rows with duplicates if True.\n",
    "# ignore_indexbool, default False. If True, the resulting axis will be labeled 0, 1, …, n - 1.\n",
    "\n",
    "df1 = df.drop_duplicates(subset = \"origin\",\n",
    "                         keep = 'first',\n",
    "                         inplace = False,\n",
    "                         ignore_index = False)\n",
    "\n",
    "df1.head()"
   ]
  },
  {
   "cell_type": "markdown",
   "id": "6f9091d4",
   "metadata": {},
   "source": [
    "Se pueden buscar valores duplicados en una combinación de varias columnas"
   ]
  },
  {
   "cell_type": "code",
   "execution_count": null,
   "id": "4e7641b5",
   "metadata": {},
   "outputs": [],
   "source": [
    "# keep: If 'first', it considers first value as unique and rest of the same values as duplicate.\n",
    "# keep: If 'last', it considers last value as unique and rest of the same values as duplicate.\n",
    "# keep: If False, it consider all of the same values as duplicates\n",
    "# inplace: Boolean values, removes rows with duplicates if True.\n",
    "# ignore_indexbool, default False. If True, the resulting axis will be labeled 0, 1, …, n - 1.\n",
    "\n",
    "df = pd.DataFrame({'Name'       : ['Carlos', 'Andrés', 'Alejandro', 'Santiago'],\n",
    "                   'Age'        : [23, 24, 24, 25],\n",
    "                   'University' : ['AA', 'BB', 'BB', 'DD']})\n",
    "\n",
    "df1 = df.drop_duplicates(subset = [\"Age\",\"University\"],\n",
    "                         keep = False,\n",
    "                         inplace = False,\n",
    "                         ignore_index = True)\n",
    "\n",
    "df1.head()"
   ]
  },
  {
   "cell_type": "markdown",
   "id": "a6e2f95a",
   "metadata": {},
   "source": [
    "Conservar **solamente** los valores duplicados"
   ]
  },
  {
   "cell_type": "code",
   "execution_count": null,
   "id": "fe5217c4",
   "metadata": {},
   "outputs": [],
   "source": [
    "# keep{‘first’, ‘last’, False}, default ‘first’\n",
    "# Determines which duplicates (if any) to mark.\n",
    "# first : Mark duplicates as True except for the first occurrence.\n",
    "# last : Mark duplicates as True except for the last occurrence.\n",
    "# False : Mark all duplicates as True.\n",
    "\n",
    "df = pd.DataFrame({'Name'       : ['Carlos', 'Andrés', 'Alejandro', 'Santiago'],\n",
    "                   'Age'        : [23, 24, 24, 25],\n",
    "                   'University' : ['AA', 'BB', 'BB', 'BB']})\n",
    "\n",
    "df1 = df[df[[\"Age\",\"University\"]].duplicated(keep = False)]\n",
    "df1.head()"
   ]
  },
  {
   "cell_type": "markdown",
   "id": "ee954607",
   "metadata": {},
   "source": [
    "#### <font color=#845600> Filtrar valores faltantes"
   ]
  },
  {
   "cell_type": "code",
   "execution_count": null,
   "id": "a8ee7663",
   "metadata": {},
   "outputs": [],
   "source": [
    "# La librería \"numpy\" proporciona una forma para generar un valor vacío\n",
    "import numpy as np\n",
    "\n",
    "# axis\n",
    "# axis{0 or ‘index’, 1 or ‘columns’}, default 0\n",
    "# Determine if rows or columns which contain missing values are removed.\n",
    "# 0, or ‘index’ : Drop rows which contain missing values.\n",
    "# 1, or ‘columns’ : Drop columns which contain missing value.\n",
    "\n",
    "# how\n",
    "# how: {‘any’, ‘all’}, default ‘any’\n",
    "# Determine if row or column is removed from DataFrame, when we have at least one NA or all NA.\n",
    "# ‘any’ : If any NA values are present, drop that row or column.\n",
    "# ‘all’ : If all values are NA, drop that row or column.\n",
    "\n",
    "# subset\n",
    "# subset: column label or sequence of labels, optional\n",
    "# Labels along other axis to consider, e.g. if you are dropping rows these would be a list of columns to include.\n",
    "\n",
    "# inplace\n",
    "# inplace: bool, default False\n",
    "# If True, do operation inplace and return None.\n",
    "\n",
    "# La función dropna y notnull pueden identificar a los valores de np.nan, None y pd.NA\n",
    "\n",
    "df = pd.DataFrame({'Name'       : ['Carlos', 'Andrés', np.nan, 'Santiago', \"Fernand0\", \"Marcelo\", np.nan],\n",
    "                   'Age'        : [23, 24, 24, 25, None, 27, None],\n",
    "                   'University' : ['AA', pd.NA, 'BB', None, 'CC','EE', pd.NA]})\n",
    "#df1 = df.dropna(axis = 0, how = \"all\")\n",
    "df1 = df.dropna(axis = 0, how = \"any\")\n",
    "df1.head(10)"
   ]
  },
  {
   "cell_type": "markdown",
   "id": "d5b1eaba",
   "metadata": {},
   "source": [
    "Cuenta de los valores no nulos en el data frame"
   ]
  },
  {
   "cell_type": "code",
   "execution_count": 21,
   "id": "feff6493",
   "metadata": {},
   "outputs": [
    {
     "data": {
      "text/plain": [
       "year         32735\n",
       "month        32735\n",
       "day          32735\n",
       "dep_time     32735\n",
       "dep_delay    32735\n",
       "arr_time     32735\n",
       "arr_delay    32735\n",
       "carrier      32735\n",
       "tailnum      32735\n",
       "flight       32735\n",
       "origin       32735\n",
       "dest         32735\n",
       "air_time     32735\n",
       "distance     32735\n",
       "hour         32735\n",
       "minute       32735\n",
       "dtype: int64"
      ]
     },
     "execution_count": 21,
     "metadata": {},
     "output_type": "execute_result"
    }
   ],
   "source": [
    "column_notnull = df.notnull().sum()\n",
    "column_notnull"
   ]
  },
  {
   "cell_type": "markdown",
   "id": "04fc1a92",
   "metadata": {},
   "source": [
    "#### <font color=#845600> Filtrar filas según una cadena de texto"
   ]
  },
  {
   "cell_type": "code",
   "execution_count": null,
   "id": "31d5e450",
   "metadata": {},
   "outputs": [],
   "source": [
    "df = pd.DataFrame({'Name'       : ['Carlos', 'Andrés', np.nan, 'Carmina', \"Fernand0\", \"Marcelo\", np.nan],\n",
    "                   'Age'        : [23, 24, 24, 25, None, 27, None],\n",
    "                   'University' : ['AA', pd.NA, 'BB', None, 'CC','EE', pd.NA]})\n",
    "\n",
    "# Filtrar filas de la columna 'Name' cuya primera letra es 'C'\n",
    "df1 = df[df['Name'].str[0] == 'C' ]\n",
    "df1.head()"
   ]
  },
  {
   "cell_type": "code",
   "execution_count": null,
   "id": "ea3d5f8d",
   "metadata": {},
   "outputs": [],
   "source": [
    "df = pd.DataFrame({'Name'       : ['Carlos', 'Andrés', np.nan, 'Carmina', \"Fernand0\", \"Marcelo\", np.nan],\n",
    "                   'Age'        : [23, 24, 24, 25, None, 27, None],\n",
    "                   'University' : ['AA', pd.NA, 'BB', None, 'CC','EE', pd.NA]})\n",
    "\n",
    "# Filtrar filas de la columna 'Name' cuyas dos primeras letras es 'Ca'\n",
    "df1 = df[df['Name'].str[0:2] == 'Ca' ]\n",
    "df1.head()"
   ]
  },
  {
   "cell_type": "code",
   "execution_count": null,
   "id": "429cb146",
   "metadata": {
    "scrolled": true
   },
   "outputs": [],
   "source": [
    "df['Name'].str[0:5]"
   ]
  },
  {
   "cell_type": "code",
   "execution_count": null,
   "id": "455be851",
   "metadata": {},
   "outputs": [],
   "source": [
    "df = pd.DataFrame({'Name'       : ['Carlos', 'Andrés', np.nan, 'Carmina', \"Fernand0\", \"Marcelo\", np.nan],\n",
    "                   'Age'        : [23, 24, 24, 25, None, 27, None],\n",
    "                   'University' : ['AA', pd.NA, 'BB', None, 'CC','EE', pd.NA]})\n",
    "\n",
    "# Filtrar filas de la columna 'Name' cuyas dos primeras letras es 'Ca'\n",
    "df1 = df[df['Name'].str.startswith(\"Ca\") == True]\n",
    "df1.head()"
   ]
  },
  {
   "cell_type": "code",
   "execution_count": null,
   "id": "4eaa3a59",
   "metadata": {},
   "outputs": [],
   "source": [
    "df = pd.DataFrame({'Name'       : ['Carlos', 'Andrés', np.nan, 'Carmina', \"Fernand0\", \"Marcos\", np.nan],\n",
    "                   'Age'        : [23, 24, 24, 25, None, 27, None],\n",
    "                   'University' : ['AA', pd.NA, 'BB', None, 'CC','EE', pd.NA]})\n",
    "\n",
    "# Filtrar filas de la columna 'Name' cuyas dos últimas letras es 'os'\n",
    "df1 = df[df['Name'].str.endswith(\"os\") == True]\n",
    "df1.head()"
   ]
  },
  {
   "cell_type": "code",
   "execution_count": null,
   "id": "0d7509eb",
   "metadata": {},
   "outputs": [],
   "source": [
    "x = df[\"Name\"]\n",
    "x.str.startswith(\"Ca\")"
   ]
  },
  {
   "cell_type": "code",
   "execution_count": null,
   "id": "b1f84173",
   "metadata": {},
   "outputs": [],
   "source": []
  },
  {
   "cell_type": "code",
   "execution_count": null,
   "id": "483da1bd",
   "metadata": {},
   "outputs": [],
   "source": []
  }
 ],
 "metadata": {
  "kernelspec": {
   "display_name": "Python 3 (ipykernel)",
   "language": "python",
   "name": "python3"
  },
  "language_info": {
   "codemirror_mode": {
    "name": "ipython",
    "version": 3
   },
   "file_extension": ".py",
   "mimetype": "text/x-python",
   "name": "python",
   "nbconvert_exporter": "python",
   "pygments_lexer": "ipython3",
   "version": "3.10.8"
  },
  "toc": {
   "base_numbering": 1,
   "nav_menu": {},
   "number_sections": false,
   "sideBar": true,
   "skip_h1_title": false,
   "title_cell": "Table of Contents",
   "title_sidebar": "Contents",
   "toc_cell": false,
   "toc_position": {},
   "toc_section_display": true,
   "toc_window_display": false
  }
 },
 "nbformat": 4,
 "nbformat_minor": 5
}
