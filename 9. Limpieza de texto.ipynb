{
 "cells": [
  {
   "cell_type": "markdown",
   "metadata": {},
   "source": [
    "### 9. Limpieza de texto"
   ]
  },
  {
   "cell_type": "markdown",
   "metadata": {},
   "source": [
    "Limpiar una columna de texto generalmente también implica uniformizar todos sus caracteres. Considerar, por lo menos las siguientes acciones:\n",
    "\n",
    "- Reemplazo de ciertos valores por NaN\n",
    "- Transformación de mayúsculas a minusculas y viceversa\n",
    "- Remoción de espacios innecesarios\n",
    "- Eliminar tildes"
   ]
  },
  {
   "cell_type": "markdown",
   "metadata": {},
   "source": [
    "##### Librerías\n"
   ]
  },
  {
   "cell_type": "code",
   "execution_count": 66,
   "metadata": {},
   "outputs": [],
   "source": [
    "import pandas as pd\n",
    "import numpy as np"
   ]
  },
  {
   "cell_type": "markdown",
   "metadata": {},
   "source": [
    "##### Carga de datos\n",
    "Combinaremos todas las operaciones en una sola función"
   ]
  },
  {
   "cell_type": "code",
   "execution_count": 92,
   "metadata": {},
   "outputs": [
    {
     "name": "stdout",
     "output_type": "stream",
     "text": [
      "['Hotel_Address']\n"
     ]
    },
    {
     "data": {
      "text/html": [
       "<div>\n",
       "<style scoped>\n",
       "    .dataframe tbody tr th:only-of-type {\n",
       "        vertical-align: middle;\n",
       "    }\n",
       "\n",
       "    .dataframe tbody tr th {\n",
       "        vertical-align: top;\n",
       "    }\n",
       "\n",
       "    .dataframe thead th {\n",
       "        text-align: right;\n",
       "    }\n",
       "</style>\n",
       "<table border=\"1\" class=\"dataframe\">\n",
       "  <thead>\n",
       "    <tr style=\"text-align: right;\">\n",
       "      <th></th>\n",
       "      <th>Hotel_Address</th>\n",
       "      <th>Additional_Number_of_Scoring</th>\n",
       "      <th>Average_Score</th>\n",
       "    </tr>\n",
       "  </thead>\n",
       "  <tbody>\n",
       "    <tr>\n",
       "      <th>0</th>\n",
       "      <td>S GRAVESANDESTRAAT 55 OOST 1092 AA AMSTERDAM N...</td>\n",
       "      <td>194</td>\n",
       "      <td>7.7</td>\n",
       "    </tr>\n",
       "    <tr>\n",
       "      <th>1</th>\n",
       "      <td>S GRAVESANDESTRAAT 55 OOST 1092 AA AMSTERDAM N...</td>\n",
       "      <td>194</td>\n",
       "      <td>7.7</td>\n",
       "    </tr>\n",
       "    <tr>\n",
       "      <th>2</th>\n",
       "      <td>S GRAVESANDESTRAAT 55 OOST 1092 AA AMSTERDAM N...</td>\n",
       "      <td>194</td>\n",
       "      <td>7.7</td>\n",
       "    </tr>\n",
       "    <tr>\n",
       "      <th>3</th>\n",
       "      <td>S GRAVESANDESTRAAT 55 OOST 1092 AA AMSTERDAM N...</td>\n",
       "      <td>194</td>\n",
       "      <td>7.7</td>\n",
       "    </tr>\n",
       "    <tr>\n",
       "      <th>4</th>\n",
       "      <td>S GRAVESANDESTRAAT 55 OOST 1092 AA AMSTERDAM N...</td>\n",
       "      <td>194</td>\n",
       "      <td>7.7</td>\n",
       "    </tr>\n",
       "  </tbody>\n",
       "</table>\n",
       "</div>"
      ],
      "text/plain": [
       "                                       Hotel_Address  \\\n",
       "0  S GRAVESANDESTRAAT 55 OOST 1092 AA AMSTERDAM N...   \n",
       "1  S GRAVESANDESTRAAT 55 OOST 1092 AA AMSTERDAM N...   \n",
       "2  S GRAVESANDESTRAAT 55 OOST 1092 AA AMSTERDAM N...   \n",
       "3  S GRAVESANDESTRAAT 55 OOST 1092 AA AMSTERDAM N...   \n",
       "4  S GRAVESANDESTRAAT 55 OOST 1092 AA AMSTERDAM N...   \n",
       "\n",
       "   Additional_Number_of_Scoring  Average_Score  \n",
       "0                           194            7.7  \n",
       "1                           194            7.7  \n",
       "2                           194            7.7  \n",
       "3                           194            7.7  \n",
       "4                           194            7.7  "
      ]
     },
     "execution_count": 92,
     "metadata": {},
     "output_type": "execute_result"
    }
   ],
   "source": [
    "# Función de limpieza de texto\n",
    "def clean_text(var):\n",
    "    var = ( var\n",
    "            .str.upper()\n",
    "            .str.replace( r'\\s+', ' ', regex = True ).str.strip()\n",
    "            .replace( ' ', np.NaN )\n",
    "            .replace( {'Á':'A','É':'E','Í':'I','Ó':'O','Ú':'U'}, regex = True )\n",
    "           ) \n",
    "    return var\n",
    "\n",
    "# Carga de datos\n",
    "data = pd.read_csv( filepath_or_buffer = 'Hotel_Reviews.csv', sep = ',', usecols = [0,1,3] )\n",
    "\n",
    "# Seleccionar las columnas de texto (object)\n",
    "selected_cols = data.select_dtypes(include=['object']).columns\n",
    "\n",
    "# Aplicar la función de limpieza a las columnas seleccionadas\n",
    "data[selected_cols] = data.select_dtypes(include=['object']).apply(clean_text)\n",
    "\n",
    "print(selected_cols.values)\n",
    "data.head()"
   ]
  }
 ],
 "metadata": {
  "kernelspec": {
   "display_name": "DS-Env",
   "language": "python",
   "name": "python3"
  },
  "language_info": {
   "codemirror_mode": {
    "name": "ipython",
    "version": 3
   },
   "file_extension": ".py",
   "mimetype": "text/x-python",
   "name": "python",
   "nbconvert_exporter": "python",
   "pygments_lexer": "ipython3",
   "version": "3.10.12"
  },
  "orig_nbformat": 4
 },
 "nbformat": 4,
 "nbformat_minor": 2
}
